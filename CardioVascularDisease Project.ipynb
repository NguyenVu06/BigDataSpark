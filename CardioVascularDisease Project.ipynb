{
 "cells": [
  {
   "cell_type": "markdown",
   "metadata": {},
   "source": [
    "#    Project: Cardio Vascular in the US\n",
    "\n",
    "### Nguyen Vu"
   ]
  },
  {
   "cell_type": "code",
   "execution_count": 1,
   "metadata": {},
   "outputs": [],
   "source": [
    "from pyspark.sql import SparkSession\n",
    "from pyspark import SparkContext\n",
    "\n",
    "\n",
    "import sys\n",
    "from operator import add\n",
    "\n",
    "\n",
    "from pyspark import SparkContext\n",
    "from pyspark import SparkConf,SparkContext\n",
    "from pyspark.streaming import StreamingContext\n",
    "import sys\n",
    "from operator import add\n",
    "\n",
    "from pyspark.sql.types import *\n",
    "from pyspark.sql import functions as func\n",
    "\n",
    "from pyspark.sql import SQLContext\n",
    "\n",
    "spark = SparkSession.builder.master(\"local[*]\").getOrCreate()\n",
    "sc = SparkContext.getOrCreate()\n",
    "\n",
    "sqlContext = SQLContext(sc)\n",
    "\n",
    "import pyspark.sql.functions as F\n",
    "import pyspark.ml.evaluation as evals \n",
    "\n",
    "from pyspark.ml.classification import LogisticRegression\n",
    "from pyspark.ml.classification import S\n",
    "from pyspark.ml.regression import LinearRegression\n",
    "\n",
    "import numpy as np"
   ]
  },
  {
   "cell_type": "code",
   "execution_count": null,
   "metadata": {},
   "outputs": [],
   "source": [
    "! ls -la "
   ]
  },
  {
   "cell_type": "code",
   "execution_count": 8,
   "metadata": {},
   "outputs": [],
   "source": [
    "data = spark.read.csv('U.S._Chronic_Disease_Indicators__Cardiovascular_Disease.csv', header = True)"
   ]
  },
  {
   "cell_type": "code",
   "execution_count": 9,
   "metadata": {},
   "outputs": [],
   "source": [
    "allcols = data.columns"
   ]
  },
  {
   "cell_type": "markdown",
   "metadata": {},
   "source": [
    "Important columns for analysis:\n",
    "* LocationAbbr = State where data is recorded\n",
    "* Question = Describe what the data value answer. Will be manually classified as mortality vs. hopitalization and everything else. Mortality = Yes serious, Everything else = No serious\n",
    "* DataValueUnit = Unit of data (%, per 1000, per 10,000, etc.). Will be convert all into 1 common unit = percent\n",
    "* DataValueType = Rate Value Type (adyjusted for age or not adjusted)\n",
    "* DataValue = Numeric number\n",
    "* StratificationCategory1 = describe stratification as gender or race.\n",
    "* Stratification1 = stratification data: Female, male, black, white, asian, etc."
   ]
  },
  {
   "cell_type": "code",
   "execution_count": 10,
   "metadata": {},
   "outputs": [],
   "source": [
    "#Choose important columns to keep\n",
    "cols2Keep = ['LocationAbbr',\n",
    " 'Question',\n",
    " 'DataValueUnit',\n",
    " 'DataValueType',\n",
    " 'DataValue',\n",
    " 'StratificationCategory1',\n",
    " 'Stratification1',]\n",
    "\n",
    "cols2Drop = list(set(allcols) - set(cols2Keep))\n",
    "\n",
    "data = data.drop(*cols2Drop)\n",
    "\n",
    "data = data.dropna()\n",
    "data = data.dropDuplicates()"
   ]
  },
  {
   "cell_type": "code",
   "execution_count": 11,
   "metadata": {},
   "outputs": [
    {
     "data": {
      "text/plain": [
       "[('LocationAbbr', 'string'),\n",
       " ('Question', 'string'),\n",
       " ('DataValueUnit', 'string'),\n",
       " ('DataValueType', 'string'),\n",
       " ('DataValue', 'string'),\n",
       " ('StratificationCategory1', 'string'),\n",
       " ('Stratification1', 'string')]"
      ]
     },
     "execution_count": 11,
     "metadata": {},
     "output_type": "execute_result"
    }
   ],
   "source": [
    "data.dtypes\n"
   ]
  },
  {
   "cell_type": "code",
   "execution_count": 12,
   "metadata": {},
   "outputs": [],
   "source": [
    "# Split stratification Categories\n",
    "findmale = data['Stratification1'].like('%Male%')\n",
    "findfemale = data['Stratification1'].like('%Female%')\n",
    "\n",
    "findwhite = data['Stratification1'].like('%White%')\n",
    "findblack = data['Stratification1'].like('%Black%')\n",
    "\n",
    "data = data.withColumn('gender', (F.when(findmale, 1.0)\n",
    "                                 .when(findfemale, 0.0)\n",
    "                                 .otherwise(None)))\n",
    "\n",
    "data = data.withColumn('race', (F.when(findwhite, 'white')\n",
    "                                 .when(findblack, 'black')\n",
    "                                 .when(data['Stratification1'].like('Hispanic'), 'latin')\n",
    "                                 .when(data['Stratification1'].like('%Overall%'), 'all')\n",
    "                                 .otherwise('other')))\n",
    "data = data.drop('Stratification1')"
   ]
  },
  {
   "cell_type": "code",
   "execution_count": 13,
   "metadata": {},
   "outputs": [],
   "source": [
    "# correct the the data value for rate data\n",
    "data = data.withColumn('DataValue',data['DataValue'].cast(\"float\").alias('DataValue'))\n",
    "\n",
    "def dataConverter(message, value):\n",
    "    if '1,000'in message:\n",
    "        correctVal = value/1000/10\n",
    "    elif '10,000'in message:\n",
    "        correctVal = value/10000/100\n",
    "    elif '100,000'in message:\n",
    "        correctVal = value/100000/1000\n",
    "    elif '%'in message:\n",
    "        correctVal = value\n",
    "    else: correctVal = None\n",
    "    return correctVal\n",
    "\n",
    "udfPctRate = F.udf(dataConverter, FloatType())\n",
    "\n",
    "data = data.withColumn('pctRate', udfPctRate(F.col('DataValueUnit'), F.col('DataValue')))\n",
    "\n"
   ]
  },
  {
   "cell_type": "code",
   "execution_count": 20,
   "metadata": {},
   "outputs": [],
   "source": [
    "def seriousnessClassification(question): #Mortality Classified as 1, Hospitalization and High Blood Pressure Classified as 0\n",
    "    if ('Mortality'in question):\n",
    "        x = 1.0\n",
    "    elif ('Hospitalization'in question) or ('high blood pressure'in question) or ('holesterol'in question):\n",
    "        x = 0.0\n",
    "    else: x = None\n",
    "    return x\n",
    "\n",
    "udfSeriousness = F.udf(seriousnessClassification, FloatType())\n",
    "\n",
    "data = data.withColumn('Seriousness', udfSeriousness(F.col('Question')))\n",
    "\n",
    "\n"
   ]
  },
  {
   "cell_type": "code",
   "execution_count": 24,
   "metadata": {},
   "outputs": [],
   "source": [
    "# more data clean up to put types of rate data into buckets\n",
    "findCrudeRate = data['DataValueType'].like('%Crude%')\n",
    "findAgeRate = data['DataValueType'].like('%Age-adjusted%')\n",
    "\n",
    "data = data.withColumn('RateAdjusted', (F.when(findCrudeRate, 0.0)\n",
    "                                 .when(findAgeRate, 1.0)\n",
    "                                 .otherwise(None)))\n"
   ]
  },
  {
   "cell_type": "code",
   "execution_count": 25,
   "metadata": {},
   "outputs": [],
   "source": [
    "masterDF = data.select(['LocationAbbr', 'StratificationCategory1','gender', 'race', 'pctRate', 'Seriousness', 'RateAdjusted'])"
   ]
  },
  {
   "cell_type": "code",
   "execution_count": 26,
   "metadata": {},
   "outputs": [
    {
     "data": {
      "text/plain": [
       "[('LocationAbbr', 'string'),\n",
       " ('StratificationCategory1', 'string'),\n",
       " ('gender', 'double'),\n",
       " ('race', 'string'),\n",
       " ('pctRate', 'float'),\n",
       " ('Seriousness', 'float'),\n",
       " ('RateAdjusted', 'double')]"
      ]
     },
     "execution_count": 26,
     "metadata": {},
     "output_type": "execute_result"
    }
   ],
   "source": [
    "masterDF.dtypes"
   ]
  },
  {
   "cell_type": "code",
   "execution_count": 27,
   "metadata": {},
   "outputs": [
    {
     "name": "stdout",
     "output_type": "stream",
     "text": [
      "+------------+-----------------------+------+-----+------------+-----------+------------+\n",
      "|LocationAbbr|StratificationCategory1|gender| race|     pctRate|Seriousness|RateAdjusted|\n",
      "+------------+-----------------------+------+-----+------------+-----------+------------+\n",
      "|          KS|         Race/Ethnicity|  null|white|     9.72E-7|        1.0|         1.0|\n",
      "|          NH|         Race/Ethnicity|  null|white|    1.835E-6|        1.0|         0.0|\n",
      "|          AL|                 Gender|   0.0|other| 9.930001E-7|        1.0|         1.0|\n",
      "|          AK|         Race/Ethnicity|  null|white|2.5100002E-7|        1.0|         0.0|\n",
      "|          LA|                 Gender|   0.0|other|     8.46E-7|        1.0|         1.0|\n",
      "|          MN|                Overall|  null|  all|     9.44E-7|        1.0|         0.0|\n",
      "+------------+-----------------------+------+-----+------------+-----------+------------+\n",
      "only showing top 6 rows\n",
      "\n"
     ]
    }
   ],
   "source": [
    "masterDF.show(6)"
   ]
  },
  {
   "cell_type": "code",
   "execution_count": 33,
   "metadata": {},
   "outputs": [],
   "source": [
    "byRaceDF = masterDF.where(~masterDF['race'].isNull()).drop(*['StratificationCategory1', 'gender'])\n",
    "byGenderDF = masterDF.where(~masterDF['gender'].isNull()).drop(*['StratificationCategory1', 'race'])\n"
   ]
  },
  {
   "cell_type": "code",
   "execution_count": 34,
   "metadata": {},
   "outputs": [],
   "source": [
    "#correct Data Type for both DF\n",
    "\n",
    "byRaceDF = byRaceDF.withColumn('pctRate',data['pctRate'].cast(\"float\").alias('pctRate'))\n",
    "byGenderDF = byGenderDF.withColumn('pctRate',data['pctRate'].cast(\"float\").alias('pctRate'))\n",
    "\n",
    "byRaceDF = byRaceDF.withColumn('RateAdjusted',data['RateAdjusted'].cast(\"float\").alias('RateAdjusted'))\n",
    "byGenderDF = byGenderDF.withColumn('RateAdjusted',data['RateAdjusted'].cast(\"float\").alias('RateAdjusted'))\n",
    "\n",
    "byGenderDF = byGenderDF.withColumn('gender',data['gender'].cast(\"float\").alias('gender'))\n"
   ]
  },
  {
   "cell_type": "code",
   "execution_count": 35,
   "metadata": {},
   "outputs": [
    {
     "data": {
      "text/plain": [
       "[('LocationAbbr', 'string'),\n",
       " ('gender', 'float'),\n",
       " ('pctRate', 'float'),\n",
       " ('Seriousness', 'float'),\n",
       " ('RateAdjusted', 'float')]"
      ]
     },
     "execution_count": 35,
     "metadata": {},
     "output_type": "execute_result"
    }
   ],
   "source": [
    "byGenderDF.dtypes"
   ]
  },
  {
   "cell_type": "code",
   "execution_count": 36,
   "metadata": {},
   "outputs": [
    {
     "data": {
      "text/plain": [
       "[('LocationAbbr', 'string'),\n",
       " ('race', 'string'),\n",
       " ('pctRate', 'float'),\n",
       " ('Seriousness', 'float'),\n",
       " ('RateAdjusted', 'float')]"
      ]
     },
     "execution_count": 36,
     "metadata": {},
     "output_type": "execute_result"
    }
   ],
   "source": [
    "byRaceDF.dtypes"
   ]
  },
  {
   "cell_type": "code",
   "execution_count": 37,
   "metadata": {},
   "outputs": [],
   "source": [
    "byGenderDF = byGenderDF.dropna()\n",
    "byRaceDF = byRaceDF.dropna()"
   ]
  },
  {
   "cell_type": "code",
   "execution_count": 38,
   "metadata": {},
   "outputs": [
    {
     "data": {
      "text/plain": [
       "13612"
      ]
     },
     "execution_count": 38,
     "metadata": {},
     "output_type": "execute_result"
    }
   ],
   "source": [
    "byGenderDF.count()"
   ]
  },
  {
   "cell_type": "code",
   "execution_count": 39,
   "metadata": {},
   "outputs": [
    {
     "data": {
      "text/plain": [
       "46607"
      ]
     },
     "execution_count": 39,
     "metadata": {},
     "output_type": "execute_result"
    }
   ],
   "source": [
    "byRaceDF.count()"
   ]
  },
  {
   "cell_type": "code",
   "execution_count": 59,
   "metadata": {},
   "outputs": [],
   "source": [
    "\n",
    "def addInt():\n",
    "    return 1.0\n",
    "addUDF = F.udf(addInt, FloatType())\n",
    "\n",
    "byRaceDF = byRaceDF.withColumn(\"intercept\", addUDF())\n",
    "byGenderDF = byGenderDF.withColumn(\"intercept\", addUDF())"
   ]
  },
  {
   "cell_type": "code",
   "execution_count": 58,
   "metadata": {},
   "outputs": [
    {
     "name": "stdout",
     "output_type": "stream",
     "text": [
      "+------------+-----+-----------+-----------+------------+---------+\n",
      "|LocationAbbr| race|    pctRate|Seriousness|RateAdjusted|intercept|\n",
      "+------------+-----+-----------+-----------+------------+---------+\n",
      "|          KS|white|    9.72E-7|        1.0|         1.0|      1.0|\n",
      "|          NH|white|   1.835E-6|        1.0|         0.0|      1.0|\n",
      "|          AL|other|9.930001E-7|        1.0|         1.0|      1.0|\n",
      "+------------+-----+-----------+-----------+------------+---------+\n",
      "only showing top 3 rows\n",
      "\n"
     ]
    }
   ],
   "source": [
    "byRaceDF.show(3)"
   ]
  },
  {
   "cell_type": "markdown",
   "metadata": {},
   "source": [
    "### Race data is chosen for having more data\n",
    "## Prepare Race Data for machine Learning"
   ]
  },
  {
   "cell_type": "code",
   "execution_count": 60,
   "metadata": {},
   "outputs": [],
   "source": [
    "\n",
    "from pyspark.ml.feature import VectorAssembler, OneHotEncoder, StringIndexer\n",
    "import numpy as np\n",
    "\n",
    "\n",
    "strIdx = StringIndexer(inputCols=['LocationAbbr', 'Seriousness', 'race'], outputCols=['State_idx', 'Serious_idx', 'race_idx'])\n",
    "\n",
    "raceIdx = strIdx.fit(byRaceDF).transform(byRaceDF)\n",
    "\n",
    "oneHot = OneHotEncoder(inputCols=['State_idx', 'race_idx'], outputCols=['State_vec', 'race_vec'])\n",
    "\n",
    "raceCoded = oneHot.fit(raceIdx).transform(raceIdx)\n",
    "\n",
    "assemble = VectorAssembler(inputCols=['RateAdjusted', 'State_vec', 'race_vec', 'intercept'], outputCol = 'features')\n",
    "raceCoded = assemble.transform(raceCoded)\n",
    "\n"
   ]
  },
  {
   "cell_type": "markdown",
   "metadata": {},
   "source": [
    "### Data Inspection"
   ]
  },
  {
   "cell_type": "code",
   "execution_count": 42,
   "metadata": {},
   "outputs": [],
   "source": [
    "numericCols = ['pctRate',\n",
    " 'RateAdjusted',\n",
    " 'State_idx',\n",
    " 'Serious_idx',\n",
    " 'race_idx',]\n",
    "\n",
    "correlations = []\n",
    "#check pairwise correlation for all columns\n",
    "for i in numericCols:\n",
    "    for j in numericCols:\n",
    "        corr = raceCoded.corr(j, i)\n",
    "        correlations.append([i,j,corr])\n",
    "\n",
    "corrMatrix = sc.parallelize(correlations)\n",
    "\n"
   ]
  },
  {
   "cell_type": "code",
   "execution_count": null,
   "metadata": {},
   "outputs": [],
   "source": [
    "corrMatrix.top(15, lambda x: x[2])"
   ]
  },
  {
   "cell_type": "markdown",
   "metadata": {},
   "source": [
    "**Correlations Observations**\n",
    "> Moderate to strong correlation between pctRate and Seriousness Level:\n",
    "> > Both PctRate and Seriousness Levels are to be used as response thus this is not an issues\n",
    "\n",
    "> No other significant correlation is observed"
   ]
  },
  {
   "cell_type": "code",
   "execution_count": 43,
   "metadata": {},
   "outputs": [
    {
     "name": "stdout",
     "output_type": "stream",
     "text": [
      "+------------+-----------+--------------------+\n",
      "|     pctRate|Serious_idx|            features|\n",
      "+------------+-----------+--------------------+\n",
      "|     9.72E-7|        0.0|(58,[0,20,56],[1....|\n",
      "|    1.835E-6|        0.0|(58,[51,56],[1.0,...|\n",
      "| 9.930001E-7|        0.0|(58,[0,38,54],[1....|\n",
      "|2.5100002E-7|        0.0|(58,[41,56],[1.0,...|\n",
      "+------------+-----------+--------------------+\n",
      "only showing top 4 rows\n",
      "\n"
     ]
    }
   ],
   "source": [
    "raceModelDF = raceCoded.select(['pctRate','Serious_idx', 'features'])\n",
    "\n",
    "raceModelDF.show(4)"
   ]
  },
  {
   "cell_type": "code",
   "execution_count": null,
   "metadata": {},
   "outputs": [],
   "source": [
    "raceModelDF.describe(['features']).show()"
   ]
  },
  {
   "cell_type": "code",
   "execution_count": null,
   "metadata": {},
   "outputs": [],
   "source": [
    "raceModelDF.describe(['Serious_idx']).show()"
   ]
  },
  {
   "cell_type": "code",
   "execution_count": 70,
   "metadata": {},
   "outputs": [
    {
     "data": {
      "text/plain": [
       "[('pctRate', 'float'), ('Serious_idx', 'double'), ('features', 'vector')]"
      ]
     },
     "execution_count": 70,
     "metadata": {},
     "output_type": "execute_result"
    }
   ],
   "source": [
    "raceModelDF.dtypes"
   ]
  },
  {
   "cell_type": "markdown",
   "metadata": {},
   "source": [
    "## Data Prep"
   ]
  },
  {
   "cell_type": "code",
   "execution_count": 52,
   "metadata": {},
   "outputs": [],
   "source": [
    "raceModelRDD = raceModelDF.rdd.map(lambda x: (x[0], np.array(x[2].toArray())))"
   ]
  },
  {
   "cell_type": "code",
   "execution_count": 53,
   "metadata": {},
   "outputs": [
    {
     "data": {
      "text/plain": [
       "[(9.719999525259482e-07,\n",
       "  array([1., 0., 0., 0., 0., 0., 0., 0., 0., 0., 0., 0., 0., 0., 0., 0., 0.,\n",
       "         0., 0., 0., 1., 0., 0., 0., 0., 0., 0., 0., 0., 0., 0., 0., 0., 0.,\n",
       "         0., 0., 0., 0., 0., 0., 0., 0., 0., 0., 0., 0., 0., 0., 0., 0., 0.,\n",
       "         0., 0., 0., 0., 0., 1., 0.])),\n",
       " (1.8350000345890294e-06,\n",
       "  array([0., 0., 0., 0., 0., 0., 0., 0., 0., 0., 0., 0., 0., 0., 0., 0., 0.,\n",
       "         0., 0., 0., 0., 0., 0., 0., 0., 0., 0., 0., 0., 0., 0., 0., 0., 0.,\n",
       "         0., 0., 0., 0., 0., 0., 0., 0., 0., 0., 0., 0., 0., 0., 0., 0., 0.,\n",
       "         1., 0., 0., 0., 0., 1., 0.])),\n",
       " (9.930000715030474e-07,\n",
       "  array([1., 0., 0., 0., 0., 0., 0., 0., 0., 0., 0., 0., 0., 0., 0., 0., 0.,\n",
       "         0., 0., 0., 0., 0., 0., 0., 0., 0., 0., 0., 0., 0., 0., 0., 0., 0.,\n",
       "         0., 0., 0., 0., 1., 0., 0., 0., 0., 0., 0., 0., 0., 0., 0., 0., 0.,\n",
       "         0., 0., 0., 1., 0., 0., 0.]))]"
      ]
     },
     "execution_count": 53,
     "metadata": {},
     "output_type": "execute_result"
    }
   ],
   "source": [
    "raceModelRDD.take(3)"
   ]
  },
  {
   "cell_type": "code",
   "execution_count": 109,
   "metadata": {},
   "outputs": [],
   "source": [
    "#split data to train/test\n",
    "\n",
    "raceModelDF_train, raceModelDF_test = raceModelDF.randomSplit([0.75, 0.25], seed=1006)\n",
    "\n"
   ]
  },
  {
   "cell_type": "markdown",
   "metadata": {},
   "source": [
    "## Manual Multiple Linear regression + SGD to predict PctRate Using RDD\n"
   ]
  },
  {
   "cell_type": "code",
   "execution_count": 199,
   "metadata": {},
   "outputs": [],
   "source": [
    "raceModelRDD = raceModelDF_train.rdd.map(lambda x: (x[0], np.array(x[2].toArray())))\n",
    "\n",
    "d_rdd = len(raceModelRDD.first()[1])\n",
    "N_rdd = raceModelRDD.count()"
   ]
  },
  {
   "cell_type": "code",
   "execution_count": 208,
   "metadata": {},
   "outputs": [],
   "source": [
    "# numpy array to store all thetas\n",
    "# initiate all the theta list\n",
    "theta_AR = np.random.rand(d)\n",
    "itr = 0 #initiate at 0\n",
    "learnRate = (0.0001) #learning Rate\n",
    "numIter = 400 #maximume Interation\n",
    "#initiate a cost list to keep trackof cost changes\n",
    "stSize = 999999\n",
    "stopcriteria = 0.01\n",
    "costList = [9999999]"
   ]
  },
  {
   "cell_type": "code",
   "execution_count": 209,
   "metadata": {},
   "outputs": [
    {
     "name": "stdout",
     "output_type": "stream",
     "text": [
      "RDD Implementation cost:836.8034 Iter:1 Time for 1 Iter= 1.6967170238494873 secs\n",
      "RDD Implementation cost:836.7861 Iter:2 Time for 1 Iter= 3.3365790843963623 secs\n",
      "RDD Implementation cost:836.7687 Iter:3 Time for 1 Iter= 4.845769166946411 secs\n",
      "RDD Implementation cost:836.7514 Iter:4 Time for 1 Iter= 6.037713050842285 secs\n",
      "RDD Implementation cost:836.7340 Iter:5 Time for 1 Iter= 7.7719810009002686 secs\n",
      "RDD Implementation cost:836.7167 Iter:6 Time for 1 Iter= 8.986366271972656 secs\n",
      "RDD Implementation cost:836.6994 Iter:7 Time for 1 Iter= 10.241384983062744 secs\n",
      "RDD Implementation cost:836.6820 Iter:8 Time for 1 Iter= 11.555572986602783 secs\n",
      "RDD Implementation cost:836.6647 Iter:9 Time for 1 Iter= 13.064329862594604 secs\n",
      "RDD Implementation cost:836.6474 Iter:10 Time for 1 Iter= 14.450937986373901 secs\n",
      "RDD Implementation cost:836.6301 Iter:11 Time for 1 Iter= 15.854336023330688 secs\n",
      "RDD Implementation cost:836.6127 Iter:12 Time for 1 Iter= 17.285988092422485 secs\n",
      "RDD Implementation cost:836.5954 Iter:13 Time for 1 Iter= 18.696655988693237 secs\n",
      "RDD Implementation cost:836.5781 Iter:14 Time for 1 Iter= 20.441349983215332 secs\n",
      "RDD Implementation cost:836.5608 Iter:15 Time for 1 Iter= 22.037705898284912 secs\n",
      "RDD Implementation cost:836.5435 Iter:16 Time for 1 Iter= 23.631627082824707 secs\n",
      "RDD Implementation cost:836.5262 Iter:17 Time for 1 Iter= 25.18997812271118 secs\n",
      "RDD Implementation cost:836.5089 Iter:18 Time for 1 Iter= 26.88995099067688 secs\n",
      "RDD Implementation cost:836.4916 Iter:19 Time for 1 Iter= 28.59049415588379 secs\n",
      "RDD Implementation cost:836.4743 Iter:20 Time for 1 Iter= 30.111247062683105 secs\n",
      "RDD Implementation cost:836.4570 Iter:21 Time for 1 Iter= 31.438640117645264 secs\n",
      "RDD Implementation cost:836.4397 Iter:22 Time for 1 Iter= 32.71414017677307 secs\n",
      "RDD Implementation cost:836.4224 Iter:23 Time for 1 Iter= 34.024845123291016 secs\n",
      "RDD Implementation cost:836.4051 Iter:24 Time for 1 Iter= 35.325599908828735 secs\n",
      "RDD Implementation cost:836.3878 Iter:25 Time for 1 Iter= 36.616456031799316 secs\n",
      "RDD Implementation cost:836.3706 Iter:26 Time for 1 Iter= 37.931406021118164 secs\n",
      "RDD Implementation cost:836.3533 Iter:27 Time for 1 Iter= 39.216150999069214 secs\n",
      "RDD Implementation cost:836.3360 Iter:28 Time for 1 Iter= 40.54753303527832 secs\n",
      "RDD Implementation cost:836.3187 Iter:29 Time for 1 Iter= 41.86269211769104 secs\n",
      "RDD Implementation cost:836.3015 Iter:30 Time for 1 Iter= 43.210479974746704 secs\n",
      "RDD Implementation cost:836.2842 Iter:31 Time for 1 Iter= 44.540306091308594 secs\n",
      "RDD Implementation cost:836.2669 Iter:32 Time for 1 Iter= 45.852553844451904 secs\n",
      "RDD Implementation cost:836.2497 Iter:33 Time for 1 Iter= 47.134247064590454 secs\n",
      "RDD Implementation cost:836.2324 Iter:34 Time for 1 Iter= 48.43072199821472 secs\n",
      "RDD Implementation cost:836.2151 Iter:35 Time for 1 Iter= 49.76598000526428 secs\n",
      "RDD Implementation cost:836.1979 Iter:36 Time for 1 Iter= 51.18393421173096 secs\n",
      "RDD Implementation cost:836.1806 Iter:37 Time for 1 Iter= 52.60304880142212 secs\n",
      "RDD Implementation cost:836.1634 Iter:38 Time for 1 Iter= 54.24137997627258 secs\n",
      "RDD Implementation cost:836.1461 Iter:39 Time for 1 Iter= 55.73838210105896 secs\n",
      "RDD Implementation cost:836.1289 Iter:40 Time for 1 Iter= 57.107234954833984 secs\n",
      "RDD Implementation cost:836.1116 Iter:41 Time for 1 Iter= 58.45552396774292 secs\n",
      "RDD Implementation cost:836.0944 Iter:42 Time for 1 Iter= 59.75068521499634 secs\n",
      "RDD Implementation cost:836.0772 Iter:43 Time for 1 Iter= 61.08959889411926 secs\n",
      "RDD Implementation cost:836.0599 Iter:44 Time for 1 Iter= 62.38123798370361 secs\n",
      "RDD Implementation cost:836.0427 Iter:45 Time for 1 Iter= 63.74627494812012 secs\n",
      "RDD Implementation cost:836.0255 Iter:46 Time for 1 Iter= 65.09182786941528 secs\n",
      "RDD Implementation cost:836.0082 Iter:47 Time for 1 Iter= 66.41534209251404 secs\n",
      "RDD Implementation cost:835.9910 Iter:48 Time for 1 Iter= 67.76484394073486 secs\n",
      "RDD Implementation cost:835.9738 Iter:49 Time for 1 Iter= 69.1041419506073 secs\n",
      "RDD Implementation cost:835.9566 Iter:50 Time for 1 Iter= 70.83039498329163 secs\n",
      "RDD Implementation cost:835.9393 Iter:51 Time for 1 Iter= 72.78841996192932 secs\n",
      "RDD Implementation cost:835.9221 Iter:52 Time for 1 Iter= 75.19513702392578 secs\n",
      "RDD Implementation cost:835.9049 Iter:53 Time for 1 Iter= 76.63454008102417 secs\n",
      "RDD Implementation cost:835.8877 Iter:54 Time for 1 Iter= 77.98109006881714 secs\n",
      "RDD Implementation cost:835.8705 Iter:55 Time for 1 Iter= 79.29289603233337 secs\n",
      "RDD Implementation cost:835.8533 Iter:56 Time for 1 Iter= 80.60808897018433 secs\n",
      "RDD Implementation cost:835.8361 Iter:57 Time for 1 Iter= 81.97779512405396 secs\n",
      "RDD Implementation cost:835.8189 Iter:58 Time for 1 Iter= 83.34100699424744 secs\n",
      "RDD Implementation cost:835.8017 Iter:59 Time for 1 Iter= 84.67400217056274 secs\n",
      "RDD Implementation cost:835.7845 Iter:60 Time for 1 Iter= 86.01199889183044 secs\n",
      "RDD Implementation cost:835.7673 Iter:61 Time for 1 Iter= 87.3825011253357 secs\n",
      "RDD Implementation cost:835.7501 Iter:62 Time for 1 Iter= 88.75304102897644 secs\n",
      "RDD Implementation cost:835.7329 Iter:63 Time for 1 Iter= 90.09210109710693 secs\n",
      "RDD Implementation cost:835.7157 Iter:64 Time for 1 Iter= 91.36651420593262 secs\n",
      "RDD Implementation cost:835.6986 Iter:65 Time for 1 Iter= 92.66356492042542 secs\n",
      "RDD Implementation cost:835.6814 Iter:66 Time for 1 Iter= 93.94829726219177 secs\n",
      "RDD Implementation cost:835.6642 Iter:67 Time for 1 Iter= 95.28967690467834 secs\n",
      "RDD Implementation cost:835.6470 Iter:68 Time for 1 Iter= 96.6148910522461 secs\n",
      "RDD Implementation cost:835.6299 Iter:69 Time for 1 Iter= 97.92630219459534 secs\n",
      "RDD Implementation cost:835.6127 Iter:70 Time for 1 Iter= 99.24803709983826 secs\n",
      "RDD Implementation cost:835.5955 Iter:71 Time for 1 Iter= 100.605544090271 secs\n",
      "RDD Implementation cost:835.5784 Iter:72 Time for 1 Iter= 102.29217910766602 secs\n",
      "RDD Implementation cost:835.5612 Iter:73 Time for 1 Iter= 103.66031098365784 secs\n",
      "RDD Implementation cost:835.5440 Iter:74 Time for 1 Iter= 105.02561712265015 secs\n",
      "RDD Implementation cost:835.5269 Iter:75 Time for 1 Iter= 106.35134720802307 secs\n",
      "RDD Implementation cost:835.5097 Iter:76 Time for 1 Iter= 107.64083814620972 secs\n",
      "RDD Implementation cost:835.4926 Iter:77 Time for 1 Iter= 108.93673419952393 secs\n",
      "RDD Implementation cost:835.4754 Iter:78 Time for 1 Iter= 110.2203061580658 secs\n",
      "RDD Implementation cost:835.4583 Iter:79 Time for 1 Iter= 111.57835698127747 secs\n",
      "RDD Implementation cost:835.4411 Iter:80 Time for 1 Iter= 112.97811007499695 secs\n",
      "RDD Implementation cost:835.4240 Iter:81 Time for 1 Iter= 114.30377793312073 secs\n",
      "RDD Implementation cost:835.4069 Iter:82 Time for 1 Iter= 115.65962600708008 secs\n",
      "RDD Implementation cost:835.3897 Iter:83 Time for 1 Iter= 117.04592299461365 secs\n",
      "RDD Implementation cost:835.3726 Iter:84 Time for 1 Iter= 118.50925993919373 secs\n",
      "RDD Implementation cost:835.3555 Iter:85 Time for 1 Iter= 119.94022488594055 secs\n",
      "RDD Implementation cost:835.3383 Iter:86 Time for 1 Iter= 121.26519107818604 secs\n",
      "RDD Implementation cost:835.3212 Iter:87 Time for 1 Iter= 122.6207001209259 secs\n",
      "RDD Implementation cost:835.3041 Iter:88 Time for 1 Iter= 123.98934507369995 secs\n",
      "RDD Implementation cost:835.2870 Iter:89 Time for 1 Iter= 125.49269509315491 secs\n",
      "RDD Implementation cost:835.2699 Iter:90 Time for 1 Iter= 126.84324717521667 secs\n",
      "RDD Implementation cost:835.2527 Iter:91 Time for 1 Iter= 128.1383650302887 secs\n",
      "RDD Implementation cost:835.2356 Iter:92 Time for 1 Iter= 129.53928327560425 secs\n",
      "RDD Implementation cost:835.2185 Iter:93 Time for 1 Iter= 130.92499804496765 secs\n",
      "RDD Implementation cost:835.2014 Iter:94 Time for 1 Iter= 132.25819993019104 secs\n",
      "RDD Implementation cost:835.1843 Iter:95 Time for 1 Iter= 133.89487099647522 secs\n",
      "RDD Implementation cost:835.1672 Iter:96 Time for 1 Iter= 135.54799723625183 secs\n",
      "RDD Implementation cost:835.1501 Iter:97 Time for 1 Iter= 137.36971402168274 secs\n",
      "RDD Implementation cost:835.1330 Iter:98 Time for 1 Iter= 139.04484701156616 secs\n",
      "RDD Implementation cost:835.1159 Iter:99 Time for 1 Iter= 140.79812026023865 secs\n",
      "RDD Implementation cost:835.0988 Iter:100 Time for 1 Iter= 142.63669180870056 secs\n",
      "RDD Implementation cost:835.0817 Iter:101 Time for 1 Iter= 144.4436159133911 secs\n"
     ]
    },
    {
     "name": "stdout",
     "output_type": "stream",
     "text": [
      "RDD Implementation cost:835.0646 Iter:102 Time for 1 Iter= 145.80405282974243 secs\n",
      "RDD Implementation cost:835.0476 Iter:103 Time for 1 Iter= 147.20488691329956 secs\n",
      "RDD Implementation cost:835.0305 Iter:104 Time for 1 Iter= 148.5522301197052 secs\n",
      "RDD Implementation cost:835.0134 Iter:105 Time for 1 Iter= 149.8402030467987 secs\n",
      "RDD Implementation cost:834.9963 Iter:106 Time for 1 Iter= 151.24532198905945 secs\n",
      "RDD Implementation cost:834.9793 Iter:107 Time for 1 Iter= 152.53425908088684 secs\n",
      "RDD Implementation cost:834.9622 Iter:108 Time for 1 Iter= 153.88925504684448 secs\n",
      "RDD Implementation cost:834.9451 Iter:109 Time for 1 Iter= 155.24118900299072 secs\n",
      "RDD Implementation cost:834.9280 Iter:110 Time for 1 Iter= 156.63528203964233 secs\n",
      "RDD Implementation cost:834.9110 Iter:111 Time for 1 Iter= 157.94112992286682 secs\n",
      "RDD Implementation cost:834.8939 Iter:112 Time for 1 Iter= 159.27752304077148 secs\n",
      "RDD Implementation cost:834.8769 Iter:113 Time for 1 Iter= 160.59937620162964 secs\n",
      "RDD Implementation cost:834.8598 Iter:114 Time for 1 Iter= 161.91479206085205 secs\n",
      "RDD Implementation cost:834.8428 Iter:115 Time for 1 Iter= 163.22134017944336 secs\n",
      "RDD Implementation cost:834.8257 Iter:116 Time for 1 Iter= 164.59959602355957 secs\n",
      "RDD Implementation cost:834.8087 Iter:117 Time for 1 Iter= 165.9016830921173 secs\n",
      "RDD Implementation cost:834.7916 Iter:118 Time for 1 Iter= 167.19747710227966 secs\n",
      "RDD Implementation cost:834.7746 Iter:119 Time for 1 Iter= 168.50117182731628 secs\n",
      "RDD Implementation cost:834.7575 Iter:120 Time for 1 Iter= 169.8143880367279 secs\n",
      "RDD Implementation cost:834.7405 Iter:121 Time for 1 Iter= 171.1318371295929 secs\n",
      "RDD Implementation cost:834.7235 Iter:122 Time for 1 Iter= 172.39456915855408 secs\n",
      "RDD Implementation cost:834.7064 Iter:123 Time for 1 Iter= 173.6728811264038 secs\n",
      "RDD Implementation cost:834.6894 Iter:124 Time for 1 Iter= 174.97845125198364 secs\n",
      "RDD Implementation cost:834.6724 Iter:125 Time for 1 Iter= 176.30678796768188 secs\n",
      "RDD Implementation cost:834.6553 Iter:126 Time for 1 Iter= 178.00282216072083 secs\n",
      "RDD Implementation cost:834.6383 Iter:127 Time for 1 Iter= 179.7418360710144 secs\n",
      "RDD Implementation cost:834.6213 Iter:128 Time for 1 Iter= 181.7300090789795 secs\n",
      "RDD Implementation cost:834.6043 Iter:129 Time for 1 Iter= 183.2649209499359 secs\n",
      "RDD Implementation cost:834.5873 Iter:130 Time for 1 Iter= 184.53730392456055 secs\n",
      "RDD Implementation cost:834.5702 Iter:131 Time for 1 Iter= 186.07877612113953 secs\n",
      "RDD Implementation cost:834.5532 Iter:132 Time for 1 Iter= 187.39247298240662 secs\n",
      "RDD Implementation cost:834.5362 Iter:133 Time for 1 Iter= 188.7038929462433 secs\n",
      "RDD Implementation cost:834.5192 Iter:134 Time for 1 Iter= 190.07697105407715 secs\n",
      "RDD Implementation cost:834.5022 Iter:135 Time for 1 Iter= 191.4200098514557 secs\n",
      "RDD Implementation cost:834.4852 Iter:136 Time for 1 Iter= 192.72758388519287 secs\n",
      "RDD Implementation cost:834.4682 Iter:137 Time for 1 Iter= 194.06157207489014 secs\n",
      "RDD Implementation cost:834.4512 Iter:138 Time for 1 Iter= 195.59420204162598 secs\n",
      "RDD Implementation cost:834.4342 Iter:139 Time for 1 Iter= 196.9083800315857 secs\n",
      "RDD Implementation cost:834.4172 Iter:140 Time for 1 Iter= 198.27174496650696 secs\n",
      "RDD Implementation cost:834.4003 Iter:141 Time for 1 Iter= 199.60815811157227 secs\n",
      "RDD Implementation cost:834.3833 Iter:142 Time for 1 Iter= 201.1844561100006 secs\n",
      "RDD Implementation cost:834.3663 Iter:143 Time for 1 Iter= 202.56709122657776 secs\n",
      "RDD Implementation cost:834.3493 Iter:144 Time for 1 Iter= 204.2448239326477 secs\n",
      "RDD Implementation cost:834.3323 Iter:145 Time for 1 Iter= 205.66021609306335 secs\n",
      "RDD Implementation cost:834.3154 Iter:146 Time for 1 Iter= 207.04516005516052 secs\n",
      "RDD Implementation cost:834.2984 Iter:147 Time for 1 Iter= 208.37615513801575 secs\n",
      "RDD Implementation cost:834.2814 Iter:148 Time for 1 Iter= 210.16095614433289 secs\n",
      "RDD Implementation cost:834.2645 Iter:149 Time for 1 Iter= 211.49085521697998 secs\n",
      "RDD Implementation cost:834.2475 Iter:150 Time for 1 Iter= 212.84522104263306 secs\n",
      "RDD Implementation cost:834.2305 Iter:151 Time for 1 Iter= 214.19540405273438 secs\n",
      "RDD Implementation cost:834.2136 Iter:152 Time for 1 Iter= 215.45836400985718 secs\n",
      "RDD Implementation cost:834.1966 Iter:153 Time for 1 Iter= 217.37942600250244 secs\n",
      "RDD Implementation cost:834.1797 Iter:154 Time for 1 Iter= 218.7498540878296 secs\n",
      "RDD Implementation cost:834.1627 Iter:155 Time for 1 Iter= 220.0731451511383 secs\n",
      "RDD Implementation cost:834.1458 Iter:156 Time for 1 Iter= 221.39945697784424 secs\n",
      "RDD Implementation cost:834.1288 Iter:157 Time for 1 Iter= 222.71329402923584 secs\n",
      "RDD Implementation cost:834.1119 Iter:158 Time for 1 Iter= 224.05187702178955 secs\n",
      "RDD Implementation cost:834.0949 Iter:159 Time for 1 Iter= 225.35297107696533 secs\n",
      "RDD Implementation cost:834.0780 Iter:160 Time for 1 Iter= 227.05376601219177 secs\n",
      "RDD Implementation cost:834.0610 Iter:161 Time for 1 Iter= 228.39265990257263 secs\n",
      "RDD Implementation cost:834.0441 Iter:162 Time for 1 Iter= 229.70129299163818 secs\n",
      "RDD Implementation cost:834.0272 Iter:163 Time for 1 Iter= 230.9970350265503 secs\n",
      "RDD Implementation cost:834.0103 Iter:164 Time for 1 Iter= 232.341472864151 secs\n",
      "RDD Implementation cost:833.9933 Iter:165 Time for 1 Iter= 233.76597499847412 secs\n",
      "RDD Implementation cost:833.9764 Iter:166 Time for 1 Iter= 235.43124914169312 secs\n",
      "RDD Implementation cost:833.9595 Iter:167 Time for 1 Iter= 236.75840997695923 secs\n",
      "RDD Implementation cost:833.9426 Iter:168 Time for 1 Iter= 238.22976303100586 secs\n",
      "RDD Implementation cost:833.9256 Iter:169 Time for 1 Iter= 239.64603114128113 secs\n",
      "RDD Implementation cost:833.9087 Iter:170 Time for 1 Iter= 240.93957114219666 secs\n",
      "RDD Implementation cost:833.8918 Iter:171 Time for 1 Iter= 242.28383207321167 secs\n",
      "RDD Implementation cost:833.8749 Iter:172 Time for 1 Iter= 243.6148021221161 secs\n",
      "RDD Implementation cost:833.8580 Iter:173 Time for 1 Iter= 245.11959290504456 secs\n",
      "RDD Implementation cost:833.8411 Iter:174 Time for 1 Iter= 246.42891001701355 secs\n",
      "RDD Implementation cost:833.8242 Iter:175 Time for 1 Iter= 247.76325011253357 secs\n",
      "RDD Implementation cost:833.8073 Iter:176 Time for 1 Iter= 249.10590887069702 secs\n",
      "RDD Implementation cost:833.7904 Iter:177 Time for 1 Iter= 250.4333930015564 secs\n",
      "RDD Implementation cost:833.7735 Iter:178 Time for 1 Iter= 251.84434604644775 secs\n",
      "RDD Implementation cost:833.7566 Iter:179 Time for 1 Iter= 253.14879822731018 secs\n",
      "RDD Implementation cost:833.7397 Iter:180 Time for 1 Iter= 254.49520611763 secs\n",
      "RDD Implementation cost:833.7229 Iter:181 Time for 1 Iter= 255.80049395561218 secs\n",
      "RDD Implementation cost:833.7060 Iter:182 Time for 1 Iter= 257.0782949924469 secs\n",
      "RDD Implementation cost:833.6891 Iter:183 Time for 1 Iter= 258.39599990844727 secs\n",
      "RDD Implementation cost:833.6722 Iter:184 Time for 1 Iter= 259.6654050350189 secs\n",
      "RDD Implementation cost:833.6553 Iter:185 Time for 1 Iter= 260.9796230792999 secs\n",
      "RDD Implementation cost:833.6385 Iter:186 Time for 1 Iter= 262.31160593032837 secs\n",
      "RDD Implementation cost:833.6216 Iter:187 Time for 1 Iter= 263.62366795539856 secs\n",
      "RDD Implementation cost:833.6047 Iter:188 Time for 1 Iter= 264.93971610069275 secs\n",
      "RDD Implementation cost:833.5879 Iter:189 Time for 1 Iter= 266.3743541240692 secs\n",
      "RDD Implementation cost:833.5710 Iter:190 Time for 1 Iter= 267.750803232193 secs\n",
      "RDD Implementation cost:833.5541 Iter:191 Time for 1 Iter= 269.06360387802124 secs\n",
      "RDD Implementation cost:833.5373 Iter:192 Time for 1 Iter= 270.3699140548706 secs\n",
      "RDD Implementation cost:833.5204 Iter:193 Time for 1 Iter= 271.70834398269653 secs\n",
      "RDD Implementation cost:833.5036 Iter:194 Time for 1 Iter= 273.0305700302124 secs\n",
      "RDD Implementation cost:833.4867 Iter:195 Time for 1 Iter= 274.33144998550415 secs\n",
      "RDD Implementation cost:833.4699 Iter:196 Time for 1 Iter= 275.65359711647034 secs\n",
      "RDD Implementation cost:833.4530 Iter:197 Time for 1 Iter= 276.9424149990082 secs\n",
      "RDD Implementation cost:833.4362 Iter:198 Time for 1 Iter= 278.21325421333313 secs\n",
      "RDD Implementation cost:833.4193 Iter:199 Time for 1 Iter= 279.51743602752686 secs\n",
      "RDD Implementation cost:833.4025 Iter:200 Time for 1 Iter= 280.8446319103241 secs\n",
      "RDD Implementation cost:833.3857 Iter:201 Time for 1 Iter= 282.136990070343 secs\n"
     ]
    },
    {
     "name": "stdout",
     "output_type": "stream",
     "text": [
      "RDD Implementation cost:833.3688 Iter:202 Time for 1 Iter= 283.466096162796 secs\n",
      "RDD Implementation cost:833.3520 Iter:203 Time for 1 Iter= 284.99452209472656 secs\n",
      "RDD Implementation cost:833.3352 Iter:204 Time for 1 Iter= 286.3655788898468 secs\n",
      "RDD Implementation cost:833.3183 Iter:205 Time for 1 Iter= 287.658282995224 secs\n",
      "RDD Implementation cost:833.3015 Iter:206 Time for 1 Iter= 288.9730689525604 secs\n",
      "RDD Implementation cost:833.2847 Iter:207 Time for 1 Iter= 290.2670068740845 secs\n",
      "RDD Implementation cost:833.2679 Iter:208 Time for 1 Iter= 291.6003649234772 secs\n",
      "RDD Implementation cost:833.2511 Iter:209 Time for 1 Iter= 292.9008071422577 secs\n",
      "RDD Implementation cost:833.2343 Iter:210 Time for 1 Iter= 294.19964694976807 secs\n",
      "RDD Implementation cost:833.2174 Iter:211 Time for 1 Iter= 295.49226689338684 secs\n",
      "RDD Implementation cost:833.2006 Iter:212 Time for 1 Iter= 296.95637106895447 secs\n",
      "RDD Implementation cost:833.1838 Iter:213 Time for 1 Iter= 298.30073499679565 secs\n",
      "RDD Implementation cost:833.1670 Iter:214 Time for 1 Iter= 299.6162300109863 secs\n",
      "RDD Implementation cost:833.1502 Iter:215 Time for 1 Iter= 300.94096207618713 secs\n",
      "RDD Implementation cost:833.1334 Iter:216 Time for 1 Iter= 302.26458406448364 secs\n",
      "RDD Implementation cost:833.1166 Iter:217 Time for 1 Iter= 303.57131910324097 secs\n",
      "RDD Implementation cost:833.0998 Iter:218 Time for 1 Iter= 304.89168310165405 secs\n",
      "RDD Implementation cost:833.0831 Iter:219 Time for 1 Iter= 306.1767010688782 secs\n",
      "RDD Implementation cost:833.0663 Iter:220 Time for 1 Iter= 307.47631311416626 secs\n",
      "RDD Implementation cost:833.0495 Iter:221 Time for 1 Iter= 308.7753121852875 secs\n",
      "RDD Implementation cost:833.0327 Iter:222 Time for 1 Iter= 310.0745060443878 secs\n",
      "RDD Implementation cost:833.0159 Iter:223 Time for 1 Iter= 311.43704104423523 secs\n",
      "RDD Implementation cost:832.9991 Iter:224 Time for 1 Iter= 312.72694396972656 secs\n",
      "RDD Implementation cost:832.9824 Iter:225 Time for 1 Iter= 314.09032702445984 secs\n",
      "RDD Implementation cost:832.9656 Iter:226 Time for 1 Iter= 315.3787031173706 secs\n",
      "RDD Implementation cost:832.9488 Iter:227 Time for 1 Iter= 316.6607348918915 secs\n",
      "RDD Implementation cost:832.9321 Iter:228 Time for 1 Iter= 317.9676020145416 secs\n",
      "RDD Implementation cost:832.9153 Iter:229 Time for 1 Iter= 319.2550439834595 secs\n",
      "RDD Implementation cost:832.8985 Iter:230 Time for 1 Iter= 320.5650169849396 secs\n",
      "RDD Implementation cost:832.8818 Iter:231 Time for 1 Iter= 321.8966419696808 secs\n",
      "RDD Implementation cost:832.8650 Iter:232 Time for 1 Iter= 323.2228751182556 secs\n",
      "RDD Implementation cost:832.8483 Iter:233 Time for 1 Iter= 324.52471113204956 secs\n",
      "RDD Implementation cost:832.8315 Iter:234 Time for 1 Iter= 325.8416471481323 secs\n",
      "RDD Implementation cost:832.8148 Iter:235 Time for 1 Iter= 327.409334897995 secs\n",
      "RDD Implementation cost:832.7980 Iter:236 Time for 1 Iter= 329.352823972702 secs\n",
      "RDD Implementation cost:832.7813 Iter:237 Time for 1 Iter= 331.44507217407227 secs\n",
      "RDD Implementation cost:832.7645 Iter:238 Time for 1 Iter= 333.1042809486389 secs\n",
      "RDD Implementation cost:832.7478 Iter:239 Time for 1 Iter= 334.6490390300751 secs\n",
      "RDD Implementation cost:832.7310 Iter:240 Time for 1 Iter= 335.91778087615967 secs\n",
      "RDD Implementation cost:832.7143 Iter:241 Time for 1 Iter= 337.2119290828705 secs\n",
      "RDD Implementation cost:832.6976 Iter:242 Time for 1 Iter= 338.5092341899872 secs\n",
      "RDD Implementation cost:832.6809 Iter:243 Time for 1 Iter= 339.8161311149597 secs\n",
      "RDD Implementation cost:832.6641 Iter:244 Time for 1 Iter= 341.1626980304718 secs\n",
      "RDD Implementation cost:832.6474 Iter:245 Time for 1 Iter= 342.51151418685913 secs\n",
      "RDD Implementation cost:832.6307 Iter:246 Time for 1 Iter= 343.8276650905609 secs\n",
      "RDD Implementation cost:832.6140 Iter:247 Time for 1 Iter= 345.1234059333801 secs\n",
      "RDD Implementation cost:832.5972 Iter:248 Time for 1 Iter= 346.41283202171326 secs\n",
      "RDD Implementation cost:832.5805 Iter:249 Time for 1 Iter= 347.7920129299164 secs\n",
      "RDD Implementation cost:832.5638 Iter:250 Time for 1 Iter= 349.2267289161682 secs\n",
      "RDD Implementation cost:832.5471 Iter:251 Time for 1 Iter= 350.5220048427582 secs\n",
      "RDD Implementation cost:832.5304 Iter:252 Time for 1 Iter= 351.8547911643982 secs\n",
      "RDD Implementation cost:832.5137 Iter:253 Time for 1 Iter= 353.1912760734558 secs\n",
      "RDD Implementation cost:832.4970 Iter:254 Time for 1 Iter= 354.5027029514313 secs\n",
      "RDD Implementation cost:832.4803 Iter:255 Time for 1 Iter= 355.820121049881 secs\n",
      "RDD Implementation cost:832.4636 Iter:256 Time for 1 Iter= 357.7940421104431 secs\n",
      "RDD Implementation cost:832.4469 Iter:257 Time for 1 Iter= 359.92495703697205 secs\n",
      "RDD Implementation cost:832.4302 Iter:258 Time for 1 Iter= 361.2622740268707 secs\n",
      "RDD Implementation cost:832.4135 Iter:259 Time for 1 Iter= 362.6332631111145 secs\n",
      "RDD Implementation cost:832.3968 Iter:260 Time for 1 Iter= 363.96687722206116 secs\n",
      "RDD Implementation cost:832.3801 Iter:261 Time for 1 Iter= 365.31215715408325 secs\n",
      "RDD Implementation cost:832.3635 Iter:262 Time for 1 Iter= 366.70861315727234 secs\n",
      "RDD Implementation cost:832.3468 Iter:263 Time for 1 Iter= 368.007465839386 secs\n",
      "RDD Implementation cost:832.3301 Iter:264 Time for 1 Iter= 369.3466658592224 secs\n",
      "RDD Implementation cost:832.3134 Iter:265 Time for 1 Iter= 370.6419370174408 secs\n",
      "RDD Implementation cost:832.2968 Iter:266 Time for 1 Iter= 371.98268699645996 secs\n",
      "RDD Implementation cost:832.2801 Iter:267 Time for 1 Iter= 373.27810192108154 secs\n",
      "RDD Implementation cost:832.2634 Iter:268 Time for 1 Iter= 374.59160590171814 secs\n",
      "RDD Implementation cost:832.2468 Iter:269 Time for 1 Iter= 375.86854219436646 secs\n",
      "RDD Implementation cost:832.2301 Iter:270 Time for 1 Iter= 377.16359996795654 secs\n",
      "RDD Implementation cost:832.2134 Iter:271 Time for 1 Iter= 378.4801650047302 secs\n",
      "RDD Implementation cost:832.1968 Iter:272 Time for 1 Iter= 379.7794699668884 secs\n",
      "RDD Implementation cost:832.1801 Iter:273 Time for 1 Iter= 381.1716079711914 secs\n",
      "RDD Implementation cost:832.1635 Iter:274 Time for 1 Iter= 382.50478887557983 secs\n",
      "RDD Implementation cost:832.1468 Iter:275 Time for 1 Iter= 383.86630296707153 secs\n",
      "RDD Implementation cost:832.1302 Iter:276 Time for 1 Iter= 385.17837405204773 secs\n",
      "RDD Implementation cost:832.1135 Iter:277 Time for 1 Iter= 386.5417551994324 secs\n",
      "RDD Implementation cost:832.0969 Iter:278 Time for 1 Iter= 387.8828639984131 secs\n",
      "RDD Implementation cost:832.0802 Iter:279 Time for 1 Iter= 389.21838092803955 secs\n",
      "RDD Implementation cost:832.0636 Iter:280 Time for 1 Iter= 390.54176807403564 secs\n",
      "RDD Implementation cost:832.0470 Iter:281 Time for 1 Iter= 391.91287112236023 secs\n",
      "RDD Implementation cost:832.0303 Iter:282 Time for 1 Iter= 393.19229197502136 secs\n",
      "RDD Implementation cost:832.0137 Iter:283 Time for 1 Iter= 394.4588141441345 secs\n",
      "RDD Implementation cost:831.9971 Iter:284 Time for 1 Iter= 395.7928080558777 secs\n",
      "RDD Implementation cost:831.9805 Iter:285 Time for 1 Iter= 397.23198199272156 secs\n",
      "RDD Implementation cost:831.9638 Iter:286 Time for 1 Iter= 398.60651898384094 secs\n",
      "RDD Implementation cost:831.9472 Iter:287 Time for 1 Iter= 399.91895604133606 secs\n",
      "RDD Implementation cost:831.9306 Iter:288 Time for 1 Iter= 401.2388069629669 secs\n",
      "RDD Implementation cost:831.9140 Iter:289 Time for 1 Iter= 402.52712893486023 secs\n",
      "RDD Implementation cost:831.8974 Iter:290 Time for 1 Iter= 403.83021092414856 secs\n",
      "RDD Implementation cost:831.8808 Iter:291 Time for 1 Iter= 405.1352491378784 secs\n",
      "RDD Implementation cost:831.8641 Iter:292 Time for 1 Iter= 406.42171597480774 secs\n",
      "RDD Implementation cost:831.8475 Iter:293 Time for 1 Iter= 407.72500801086426 secs\n",
      "RDD Implementation cost:831.8309 Iter:294 Time for 1 Iter= 409.04652214050293 secs\n",
      "RDD Implementation cost:831.8143 Iter:295 Time for 1 Iter= 410.3248291015625 secs\n",
      "RDD Implementation cost:831.7977 Iter:296 Time for 1 Iter= 411.6132550239563 secs\n",
      "RDD Implementation cost:831.7811 Iter:297 Time for 1 Iter= 412.91504883766174 secs\n",
      "RDD Implementation cost:831.7646 Iter:298 Time for 1 Iter= 414.19514894485474 secs\n",
      "RDD Implementation cost:831.7480 Iter:299 Time for 1 Iter= 415.4797842502594 secs\n",
      "RDD Implementation cost:831.7314 Iter:300 Time for 1 Iter= 416.79206800460815 secs\n",
      "RDD Implementation cost:831.7148 Iter:301 Time for 1 Iter= 418.14354705810547 secs\n"
     ]
    },
    {
     "name": "stdout",
     "output_type": "stream",
     "text": [
      "RDD Implementation cost:831.6982 Iter:302 Time for 1 Iter= 419.74618792533875 secs\n",
      "RDD Implementation cost:831.6816 Iter:303 Time for 1 Iter= 421.02656412124634 secs\n",
      "RDD Implementation cost:831.6651 Iter:304 Time for 1 Iter= 422.34522318840027 secs\n",
      "RDD Implementation cost:831.6485 Iter:305 Time for 1 Iter= 423.7014470100403 secs\n",
      "RDD Implementation cost:831.6319 Iter:306 Time for 1 Iter= 425.0501821041107 secs\n",
      "RDD Implementation cost:831.6153 Iter:307 Time for 1 Iter= 426.4172451496124 secs\n",
      "RDD Implementation cost:831.5988 Iter:308 Time for 1 Iter= 427.8043141365051 secs\n",
      "RDD Implementation cost:831.5822 Iter:309 Time for 1 Iter= 429.0783269405365 secs\n",
      "RDD Implementation cost:831.5656 Iter:310 Time for 1 Iter= 430.62995505332947 secs\n",
      "RDD Implementation cost:831.5491 Iter:311 Time for 1 Iter= 431.9254660606384 secs\n",
      "RDD Implementation cost:831.5325 Iter:312 Time for 1 Iter= 433.21738481521606 secs\n",
      "RDD Implementation cost:831.5160 Iter:313 Time for 1 Iter= 434.5427529811859 secs\n",
      "RDD Implementation cost:831.4994 Iter:314 Time for 1 Iter= 435.8640592098236 secs\n",
      "RDD Implementation cost:831.4829 Iter:315 Time for 1 Iter= 437.1588909626007 secs\n",
      "RDD Implementation cost:831.4663 Iter:316 Time for 1 Iter= 438.4975972175598 secs\n",
      "RDD Implementation cost:831.4498 Iter:317 Time for 1 Iter= 439.81825399398804 secs\n",
      "RDD Implementation cost:831.4332 Iter:318 Time for 1 Iter= 441.12105321884155 secs\n",
      "RDD Implementation cost:831.4167 Iter:319 Time for 1 Iter= 442.43058705329895 secs\n",
      "RDD Implementation cost:831.4001 Iter:320 Time for 1 Iter= 443.81296396255493 secs\n",
      "RDD Implementation cost:831.3836 Iter:321 Time for 1 Iter= 445.13998198509216 secs\n",
      "RDD Implementation cost:831.3671 Iter:322 Time for 1 Iter= 446.7571771144867 secs\n",
      "RDD Implementation cost:831.3505 Iter:323 Time for 1 Iter= 448.4822828769684 secs\n",
      "RDD Implementation cost:831.3340 Iter:324 Time for 1 Iter= 450.2085380554199 secs\n",
      "RDD Implementation cost:831.3175 Iter:325 Time for 1 Iter= 451.7642631530762 secs\n",
      "RDD Implementation cost:831.3010 Iter:326 Time for 1 Iter= 453.02767610549927 secs\n",
      "RDD Implementation cost:831.2844 Iter:327 Time for 1 Iter= 454.31213092803955 secs\n",
      "RDD Implementation cost:831.2679 Iter:328 Time for 1 Iter= 455.6206340789795 secs\n",
      "RDD Implementation cost:831.2514 Iter:329 Time for 1 Iter= 456.9215819835663 secs\n",
      "RDD Implementation cost:831.2349 Iter:330 Time for 1 Iter= 458.2117428779602 secs\n",
      "RDD Implementation cost:831.2184 Iter:331 Time for 1 Iter= 459.51078701019287 secs\n",
      "RDD Implementation cost:831.2019 Iter:332 Time for 1 Iter= 460.8189821243286 secs\n",
      "RDD Implementation cost:831.1854 Iter:333 Time for 1 Iter= 462.4283950328827 secs\n",
      "RDD Implementation cost:831.1689 Iter:334 Time for 1 Iter= 463.7438271045685 secs\n",
      "RDD Implementation cost:831.1524 Iter:335 Time for 1 Iter= 465.0349690914154 secs\n",
      "RDD Implementation cost:831.1359 Iter:336 Time for 1 Iter= 466.32889103889465 secs\n",
      "RDD Implementation cost:831.1194 Iter:337 Time for 1 Iter= 467.5838260650635 secs\n",
      "RDD Implementation cost:831.1029 Iter:338 Time for 1 Iter= 468.8789448738098 secs\n",
      "RDD Implementation cost:831.0864 Iter:339 Time for 1 Iter= 470.13461804389954 secs\n",
      "RDD Implementation cost:831.0699 Iter:340 Time for 1 Iter= 471.41067910194397 secs\n",
      "RDD Implementation cost:831.0534 Iter:341 Time for 1 Iter= 472.69059920310974 secs\n",
      "RDD Implementation cost:831.0369 Iter:342 Time for 1 Iter= 473.97449111938477 secs\n",
      "RDD Implementation cost:831.0204 Iter:343 Time for 1 Iter= 475.2851960659027 secs\n",
      "RDD Implementation cost:831.0040 Iter:344 Time for 1 Iter= 476.60311222076416 secs\n",
      "RDD Implementation cost:830.9875 Iter:345 Time for 1 Iter= 478.1259229183197 secs\n",
      "RDD Implementation cost:830.9710 Iter:346 Time for 1 Iter= 480.09704995155334 secs\n",
      "RDD Implementation cost:830.9545 Iter:347 Time for 1 Iter= 481.35051703453064 secs\n",
      "RDD Implementation cost:830.9381 Iter:348 Time for 1 Iter= 482.69268012046814 secs\n",
      "RDD Implementation cost:830.9216 Iter:349 Time for 1 Iter= 484.0061390399933 secs\n",
      "RDD Implementation cost:830.9051 Iter:350 Time for 1 Iter= 485.2907929420471 secs\n",
      "RDD Implementation cost:830.8887 Iter:351 Time for 1 Iter= 486.66667199134827 secs\n",
      "RDD Implementation cost:830.8722 Iter:352 Time for 1 Iter= 487.96976709365845 secs\n",
      "RDD Implementation cost:830.8558 Iter:353 Time for 1 Iter= 489.2689599990845 secs\n",
      "RDD Implementation cost:830.8393 Iter:354 Time for 1 Iter= 490.5825572013855 secs\n",
      "RDD Implementation cost:830.8229 Iter:355 Time for 1 Iter= 491.9194860458374 secs\n",
      "RDD Implementation cost:830.8064 Iter:356 Time for 1 Iter= 493.32848715782166 secs\n",
      "RDD Implementation cost:830.7900 Iter:357 Time for 1 Iter= 494.7261412143707 secs\n",
      "RDD Implementation cost:830.7735 Iter:358 Time for 1 Iter= 496.0167520046234 secs\n",
      "RDD Implementation cost:830.7571 Iter:359 Time for 1 Iter= 497.289843082428 secs\n",
      "RDD Implementation cost:830.7406 Iter:360 Time for 1 Iter= 498.59039306640625 secs\n",
      "RDD Implementation cost:830.7242 Iter:361 Time for 1 Iter= 499.89296293258667 secs\n",
      "RDD Implementation cost:830.7078 Iter:362 Time for 1 Iter= 501.1873531341553 secs\n",
      "RDD Implementation cost:830.6913 Iter:363 Time for 1 Iter= 502.48301887512207 secs\n",
      "RDD Implementation cost:830.6749 Iter:364 Time for 1 Iter= 503.80511713027954 secs\n",
      "RDD Implementation cost:830.6585 Iter:365 Time for 1 Iter= 505.1062021255493 secs\n",
      "RDD Implementation cost:830.6421 Iter:366 Time for 1 Iter= 506.4494650363922 secs\n",
      "RDD Implementation cost:830.6256 Iter:367 Time for 1 Iter= 507.7994649410248 secs\n",
      "RDD Implementation cost:830.6092 Iter:368 Time for 1 Iter= 509.35818314552307 secs\n",
      "RDD Implementation cost:830.5928 Iter:369 Time for 1 Iter= 511.24809217453003 secs\n",
      "RDD Implementation cost:830.5764 Iter:370 Time for 1 Iter= 512.9271380901337 secs\n",
      "RDD Implementation cost:830.5600 Iter:371 Time for 1 Iter= 514.2095789909363 secs\n",
      "RDD Implementation cost:830.5436 Iter:372 Time for 1 Iter= 515.4973700046539 secs\n",
      "RDD Implementation cost:830.5271 Iter:373 Time for 1 Iter= 516.8231840133667 secs\n",
      "RDD Implementation cost:830.5107 Iter:374 Time for 1 Iter= 518.102203130722 secs\n",
      "RDD Implementation cost:830.4943 Iter:375 Time for 1 Iter= 519.4778060913086 secs\n",
      "RDD Implementation cost:830.4779 Iter:376 Time for 1 Iter= 520.7913630008698 secs\n",
      "RDD Implementation cost:830.4615 Iter:377 Time for 1 Iter= 522.1101109981537 secs\n",
      "RDD Implementation cost:830.4451 Iter:378 Time for 1 Iter= 523.5253102779388 secs\n",
      "RDD Implementation cost:830.4288 Iter:379 Time for 1 Iter= 524.8291969299316 secs\n",
      "RDD Implementation cost:830.4124 Iter:380 Time for 1 Iter= 526.1176941394806 secs\n",
      "RDD Implementation cost:830.3960 Iter:381 Time for 1 Iter= 527.412976026535 secs\n",
      "RDD Implementation cost:830.3796 Iter:382 Time for 1 Iter= 528.7026689052582 secs\n",
      "RDD Implementation cost:830.3632 Iter:383 Time for 1 Iter= 529.9880559444427 secs\n",
      "RDD Implementation cost:830.3468 Iter:384 Time for 1 Iter= 531.2462599277496 secs\n",
      "RDD Implementation cost:830.3304 Iter:385 Time for 1 Iter= 532.5842339992523 secs\n",
      "RDD Implementation cost:830.3141 Iter:386 Time for 1 Iter= 533.9574310779572 secs\n",
      "RDD Implementation cost:830.2977 Iter:387 Time for 1 Iter= 535.3015630245209 secs\n",
      "RDD Implementation cost:830.2813 Iter:388 Time for 1 Iter= 536.7970752716064 secs\n",
      "RDD Implementation cost:830.2650 Iter:389 Time for 1 Iter= 538.2105839252472 secs\n",
      "RDD Implementation cost:830.2486 Iter:390 Time for 1 Iter= 539.5755710601807 secs\n",
      "RDD Implementation cost:830.2322 Iter:391 Time for 1 Iter= 540.8961730003357 secs\n",
      "RDD Implementation cost:830.2159 Iter:392 Time for 1 Iter= 542.1828889846802 secs\n",
      "RDD Implementation cost:830.1995 Iter:393 Time for 1 Iter= 543.4687459468842 secs\n",
      "RDD Implementation cost:830.1832 Iter:394 Time for 1 Iter= 544.7735810279846 secs\n",
      "RDD Implementation cost:830.1668 Iter:395 Time for 1 Iter= 546.0703709125519 secs\n",
      "RDD Implementation cost:830.1504 Iter:396 Time for 1 Iter= 547.5611140727997 secs\n",
      "RDD Implementation cost:830.1341 Iter:397 Time for 1 Iter= 549.0005469322205 secs\n",
      "RDD Implementation cost:830.1178 Iter:398 Time for 1 Iter= 550.896693944931 secs\n",
      "RDD Implementation cost:830.1014 Iter:399 Time for 1 Iter= 552.4177949428558 secs\n",
      "RDD Implementation cost:830.0851 Iter:400 Time for 1 Iter= 553.7490248680115 secs\n",
      "Total RDD Implementation Time for 400 Iterations = 9.229180220762888mins\n"
     ]
    }
   ],
   "source": [
    "gdStart_RDD = time.time()\n",
    "raceModelRDD.cache()\n",
    "while itr < numIter and stSize > stopcriteria:\n",
    "\n",
    "    raceModelRDD_map = raceModelRDD.map(lambda x: (-(1/N)*(np.multiply(x[1], (x[0] - np.dot(x[1], theta_AR)))), \n",
    "                                                   ((x[0] - np.dot(x[1], theta_AR))**2)/N))\n",
    "    raceModelRDD_reduce = raceModelRDD_map.reduce(lambda a, b: (np.add(a[0], b[0]), a[1]+b[1]))\n",
    "    \n",
    "    oldcost = costList[-1]\n",
    "    \n",
    "    #SumGradient\n",
    "    npgd = raceModelRDD_reduce[0]\n",
    "    cost = raceModelRDD_reduce[1]\n",
    "    \n",
    "    #bold driver\n",
    "    stSize = abs(oldcost - cost)\n",
    "    if(cost<oldcost):\n",
    "        new_learingRate=learnRate*1.05\n",
    "    if(cost>oldcost):\n",
    "        new_learingRate=learnRate*0.5\n",
    "    \n",
    "    # update thetas for the next iteration\n",
    "    theta_AR -= (npgd)*new_learingRate\n",
    "    \n",
    "    # Update Cost\n",
    "    costList.append(cost)\n",
    "    \n",
    "    itr = itr + 1\n",
    "    \n",
    "    print('RDD Implementation cost:{:2.4f} Iter:{} Time for 1 Iter= {} secs'.format(cost, itr, time.time()-gdStart_RDD))\n",
    "    \n",
    "print('Total RDD Implementation Time for {} Iterations = {}mins'.format(itr, (time.time()-gdStart_RDD)/60))"
   ]
  },
  {
   "cell_type": "markdown",
   "metadata": {},
   "source": [
    "**Total RDD Implementation Time for 400 Iterations = 9.229180220762888 mins**"
   ]
  },
  {
   "cell_type": "code",
   "execution_count": 224,
   "metadata": {},
   "outputs": [],
   "source": [
    "raceModelRDD_test = raceModelDF_test.rdd.map(lambda x: (x[0], np.array(x[2].toArray())))\n",
    "\n",
    "N_test = raceModelRDD_test.count()\n",
    "\n",
    "#add a prediction column\n",
    "MSE_test = raceModelRDD_test.map(lambda x: (((x[0] - np.dot(x[1], theta_AR))**2)/N_test)).reduce(add)\n",
    "\n",
    "\n"
   ]
  },
  {
   "cell_type": "code",
   "execution_count": 230,
   "metadata": {},
   "outputs": [
    {
     "name": "stdout",
     "output_type": "stream",
     "text": [
      "The RMSE is calculated to be 28.25116520950437. Given that the percent rate range from 0 to 100. The RMSE is approximately 28% of the range of signal\n"
     ]
    }
   ],
   "source": [
    "print('The RMSE is calculated to be {}. Given that the percent rate range from 0 to 100. The RMSE is approximately 28% of the range of signal'.format(np.sqrt(MSE_test))) "
   ]
  },
  {
   "cell_type": "code",
   "execution_count": 237,
   "metadata": {},
   "outputs": [
    {
     "data": {
      "text/plain": [
       "[<matplotlib.lines.Line2D at 0x7fac9d11ba90>]"
      ]
     },
     "execution_count": 237,
     "metadata": {},
     "output_type": "execute_result"
    },
    {
     "data": {
      "image/png": "[encoded data removed]",
      "text/plain": [
       "<Figure size 432x288 with 1 Axes>"
      ]
     },
     "metadata": {
      "needs_background": "light"
     },
     "output_type": "display_data"
    }
   ],
   "source": [
    "import matplotlib.pyplot as plt\n",
    "fig = plt.figure()\n",
    "fig.add_axes()\n",
    "x = np.array(range(0, len(costList)-1))\n",
    "MSEcost = costList[1:]\n",
    "plt.plot(x, MSEcost)"
   ]
  },
  {
   "cell_type": "code",
   "execution_count": 235,
   "metadata": {},
   "outputs": [
    {
     "data": {
      "text/plain": [
       "array([2, 3, 4])"
      ]
     },
     "execution_count": 235,
     "metadata": {},
     "output_type": "execute_result"
    }
   ],
   "source": []
  },
  {
   "cell_type": "markdown",
   "metadata": {},
   "source": [
    "## Manual Multiple Linear regression + SGD to predict PctRate Using Data Frame"
   ]
  },
  {
   "cell_type": "code",
   "execution_count": 181,
   "metadata": {},
   "outputs": [],
   "source": [
    "d = len(raceModelDF_train.rdd.first()[2].toArray())\n",
    "\n",
    "N = raceModelDF_train.count()"
   ]
  },
  {
   "cell_type": "code",
   "execution_count": 182,
   "metadata": {},
   "outputs": [],
   "source": [
    "#define a function to get the gradient of the slope. Put all parameters on a numpy array to get it done in 1 pass.\n",
    "# given that X_Ar is a np array starting with 1 for intercept and , x1, x2, etc.\n",
    "# thetaAr is a np array starting with theta 0 (for intercept) , theta1 (X1), theta 2 (X2), etc. This array will be preset prior to running the loop\n",
    "\n",
    "# REMEMBER: x_AR is a sparse Vector, Y is a float, thetaAr is a numpy array\n",
    "def update_gradient(y, x_Ar, thetaAr):\n",
    "    x_np = np.array(x_Ar.toArray())\n",
    "    XdotY = y - np.dot(x_np, thetaAr)\n",
    "    gdArray = -(2/N)*(np.multiply(x_Ar, XdotY))\n",
    "    result = gdArray.tolist()\n",
    "    return result\n",
    "\n",
    "def update_MSE(y, x_Ar, thetaAr):#to be updated\n",
    "    x_np = np.array(x_Ar.toArray())\n",
    "    XdotY = y - np.dot(x_np, thetaAr)\n",
    "    res = (XdotY**2)/N\n",
    "    residuals = float(res)\n",
    "    return residuals \n",
    "\n",
    "GdUpdateUDF = F.udf(update_gradient, ArrayType(FloatType()))\n",
    "\n",
    "MSEudf = F.udf(update_MSE, FloatType())\n"
   ]
  },
  {
   "cell_type": "code",
   "execution_count": 194,
   "metadata": {},
   "outputs": [],
   "source": [
    "# numpy array to store all thetas\n",
    "# initiate all the theta list\n",
    "theta_AR = np.random.rand(d)\n",
    "itr = 0 #initiate at 0\n",
    "learnRate = (0.0001) #learning Rate\n",
    "numIter = 40 #maximume Interation\n",
    "#initiate a cost list to keep trackof cost changes\n",
    "stSize = 999999\n",
    "stopcriteria = 0.01\n",
    "costList = [9999999]"
   ]
  },
  {
   "cell_type": "code",
   "execution_count": 198,
   "metadata": {},
   "outputs": [
    {
     "name": "stdout",
     "output_type": "stream",
     "text": [
      "cost:846.1846 Iter:1 Time for 1 Iter= 2.9508440494537354 secs\n",
      "cost:846.1476 Iter:2 Time for 1 Iter= 32.99660086631775 secs\n",
      "cost:846.1106 Iter:3 Time for 1 Iter= 59.34401893615723 secs\n",
      "cost:846.0737 Iter:4 Time for 1 Iter= 85.34087109565735 secs\n",
      "cost:846.0367 Iter:5 Time for 1 Iter= 116.01179695129395 secs\n",
      "cost:845.9998 Iter:6 Time for 1 Iter= 146.8685441017151 secs\n",
      "cost:845.9628 Iter:7 Time for 1 Iter= 181.6370849609375 secs\n",
      "cost:845.9259 Iter:8 Time for 1 Iter= 215.41728115081787 secs\n",
      "cost:845.8890 Iter:9 Time for 1 Iter= 249.02133584022522 secs\n",
      "cost:845.8521 Iter:10 Time for 1 Iter= 281.9690408706665 secs\n",
      "cost:845.8152 Iter:11 Time for 1 Iter= 316.1138770580292 secs\n",
      "cost:845.7783 Iter:12 Time for 1 Iter= 351.26889991760254 secs\n",
      "cost:845.7414 Iter:13 Time for 1 Iter= 383.3917751312256 secs\n",
      "cost:845.7045 Iter:14 Time for 1 Iter= 416.5191099643707 secs\n",
      "cost:845.6677 Iter:15 Time for 1 Iter= 456.01606583595276 secs\n",
      "cost:845.6309 Iter:16 Time for 1 Iter= 492.8530378341675 secs\n",
      "cost:845.5940 Iter:17 Time for 1 Iter= 528.5910840034485 secs\n",
      "cost:845.5572 Iter:18 Time for 1 Iter= 563.6155579090118 secs\n",
      "cost:845.5204 Iter:19 Time for 1 Iter= 604.0157871246338 secs\n",
      "cost:845.4836 Iter:20 Time for 1 Iter= 642.6470580101013 secs\n",
      "cost:845.4468 Iter:21 Time for 1 Iter= 676.7047729492188 secs\n",
      "cost:845.4100 Iter:22 Time for 1 Iter= 706.917503118515 secs\n",
      "cost:845.3733 Iter:23 Time for 1 Iter= 739.8064279556274 secs\n",
      "cost:845.3365 Iter:24 Time for 1 Iter= 776.017637014389 secs\n",
      "cost:845.2998 Iter:25 Time for 1 Iter= 810.987701177597 secs\n",
      "cost:845.2631 Iter:26 Time for 1 Iter= 848.9842839241028 secs\n",
      "cost:845.2263 Iter:27 Time for 1 Iter= 884.1601719856262 secs\n",
      "cost:845.1896 Iter:28 Time for 1 Iter= 916.9159140586853 secs\n",
      "cost:845.1529 Iter:29 Time for 1 Iter= 954.3482789993286 secs\n",
      "cost:845.1162 Iter:30 Time for 1 Iter= 987.8769519329071 secs\n",
      "cost:845.0796 Iter:31 Time for 1 Iter= 1022.2073838710785 secs\n",
      "cost:845.0429 Iter:32 Time for 1 Iter= 1060.748694896698 secs\n",
      "cost:845.0063 Iter:33 Time for 1 Iter= 1096.7789919376373 secs\n",
      "cost:844.9696 Iter:34 Time for 1 Iter= 1137.5990478992462 secs\n",
      "cost:844.9330 Iter:35 Time for 1 Iter= 1173.5617291927338 secs\n",
      "cost:844.8964 Iter:36 Time for 1 Iter= 1207.6961679458618 secs\n",
      "cost:844.8598 Iter:37 Time for 1 Iter= 1244.2543790340424 secs\n",
      "cost:844.8232 Iter:38 Time for 1 Iter= 1284.0331149101257 secs\n",
      "cost:844.7866 Iter:39 Time for 1 Iter= 1326.5188660621643 secs\n",
      "cost:844.7500 Iter:40 Time for 1 Iter= 1363.4667510986328 secs\n",
      "1363.4706048965454\n"
     ]
    }
   ],
   "source": [
    "gdStart = time.time()\n",
    "raceModelDFmap_train.cache()\n",
    "while itr < numIter and stSize > stopcriteria:\n",
    "    \n",
    "    oldcost = costList[-1]\n",
    "    raceModelDFmap_train = raceModelDF_train.withColumn('gradient', GdUpdateUDF(F.col('pctRate'), F.col('features'),F.array([F.lit(i) for i in theta_AR]))).withColumn('cost', MSEudf(F.col('pctRate'), F.col('features'),F.array([F.lit(i) for i in theta_AR])))\n",
    "    \n",
    "    gradientList = raceModelDFmap_train.select('gradient').collect()\n",
    "    #calc new cost\n",
    "    costArr = raceModelDFmap_train.select('cost').collect()\n",
    "    #SumGradient\n",
    "    npgd = np.array(gradientList).sum(axis = 0)[0]\n",
    "    cost = np.array(costArr).sum(axis = 0)[0]\n",
    "    \n",
    "    #bold driver\n",
    "    stSize = abs(oldcost - cost)\n",
    "    if(cost<oldcost):\n",
    "        new_learingRate=learnRate*1.05\n",
    "    if(cost>oldcost):\n",
    "        new_learingRate=learnRate*0.5\n",
    "    \n",
    "    # update thetas for the next iteration\n",
    "    theta_AR -= (npgd)*new_learingRate\n",
    "    \n",
    "    # Update Cost\n",
    "    costList.append(cost)\n",
    "    \n",
    "    itr = itr + 1\n",
    "    \n",
    "    print('cost:{:2.4f} Iter:{} Time for 1 Iter= {} secs'.format(cost, itr, time.time()-gdStart))\n",
    "    \n",
    "print(time.time()-gdStart)"
   ]
  },
  {
   "cell_type": "code",
   "execution_count": 205,
   "metadata": {},
   "outputs": [
    {
     "name": "stdout",
     "output_type": "stream",
     "text": [
      "Total DataFrame Implementation Time for 40 Iterations = 22.72451008160909mins\n"
     ]
    }
   ],
   "source": [
    "print('Total DataFrame Implementation Time for 40 Iterations = {}mins'.format(1363.4706048965454/60))"
   ]
  },
  {
   "cell_type": "markdown",
   "metadata": {},
   "source": [
    "**Total DataFrame Implementation Time for 40 Iterations = 22.72451008160909mins**\n",
    "\n",
    "> This dataframe implementation is too inefficient due to having to collect multiple times. "
   ]
  },
  {
   "cell_type": "markdown",
   "metadata": {},
   "source": [
    "## Use ML Lib in Spark to Run Logistic Regression and SVM"
   ]
  },
  {
   "cell_type": "code",
   "execution_count": 239,
   "metadata": {},
   "outputs": [
    {
     "data": {
      "text/plain": [
       "[('pctRate', 'float'), ('Serious_idx', 'double'), ('features', 'vector')]"
      ]
     },
     "execution_count": 239,
     "metadata": {},
     "output_type": "execute_result"
    }
   ],
   "source": [
    "#model to be used to train/test:\n",
    "# raceModelDF_train, raceModelDF_test\n",
    "\n",
    "raceModelDF_train.dtypes\n"
   ]
  },
  {
   "cell_type": "markdown",
   "metadata": {},
   "source": [
    "### Use classification to predict degree of seriousness (1 is Death, 0 is Hospital or Just high blood pressure)\n",
    "#### Logistic Regression"
   ]
  },
  {
   "cell_type": "code",
   "execution_count": 242,
   "metadata": {},
   "outputs": [
    {
     "name": "stdout",
     "output_type": "stream",
     "text": [
      "[34840, 11767]\n"
     ]
    }
   ],
   "source": [
    "print([raceModelDF_train.count(), raceModelDF_test.count()])"
   ]
  },
  {
   "cell_type": "code",
   "execution_count": 243,
   "metadata": {},
   "outputs": [
    {
     "name": "stdout",
     "output_type": "stream",
     "text": [
      "+-----------+----------+-----+\n",
      "|Serious_idx|prediction|count|\n",
      "+-----------+----------+-----+\n",
      "|        1.0|       1.0|  261|\n",
      "|        0.0|       1.0|  197|\n",
      "|        1.0|       0.0| 4798|\n",
      "|        0.0|       0.0| 6511|\n",
      "+-----------+----------+-----+\n",
      "\n"
     ]
    }
   ],
   "source": [
    "logReg = LogisticRegression(labelCol = 'Serious_idx', featuresCol = 'features')\n",
    "logReg = logReg.fit(raceModelDF_train)\n",
    "\n",
    "logRegPredict = logReg.transform(raceModelDF_test)\n",
    "logRegPredict.groupBy('Serious_idx', 'prediction').count().show()"
   ]
  },
  {
   "cell_type": "code",
   "execution_count": 252,
   "metadata": {},
   "outputs": [
    {
     "data": {
      "text/plain": [
       "[0.4527026408855673, 0.5755077759836832]"
      ]
     },
     "execution_count": 252,
     "metadata": {},
     "output_type": "execute_result"
    }
   ],
   "source": [
    "evaluate = evals.MulticlassClassificationEvaluator()\n",
    "evaluate.setLabelCol('Serious_idx')\n",
    "\n",
    "[evaluate.evaluate(logRegPredict, {evaluate.metricName:'f1'}),\n",
    "evaluate.evaluate(logRegPredict, {evaluate.metricName:'accuracy'})]"
   ]
  },
  {
   "cell_type": "markdown",
   "metadata": {},
   "source": [
    "**Logistic Regression: F1 score is 0.45 while accuracy is 0.575. This model is unfortunately not very good. Perhaps the data is not linearly separatable. Kernel will be considered after trying SVM**"
   ]
  },
  {
   "cell_type": "code",
   "execution_count": 254,
   "metadata": {},
   "outputs": [
    {
     "name": "stdout",
     "output_type": "stream",
     "text": [
      "+-----------+----------+-----+\n",
      "|Serious_idx|prediction|count|\n",
      "+-----------+----------+-----+\n",
      "|        1.0|       1.0|   91|\n",
      "|        0.0|       1.0|   20|\n",
      "|        1.0|       0.0| 4968|\n",
      "|        0.0|       0.0| 6688|\n",
      "+-----------+----------+-----+\n",
      "\n"
     ]
    }
   ],
   "source": [
    "from pyspark.ml.classification import LinearSVC\n",
    "\n",
    "lsvc = LinearSVC(labelCol=\"Serious_idx\", featuresCol=\"features\")\n",
    "\n",
    "# Fit the model\n",
    "lsvcModel = lsvc.fit(raceModelDF_train)\n",
    "\n",
    "svm_Predict = lsvcModel.transform(raceModelDF_test)\n",
    "svm_Predict.groupBy('Serious_idx', 'prediction').count().show()\n",
    "\n",
    "\n"
   ]
  },
  {
   "cell_type": "code",
   "execution_count": 255,
   "metadata": {},
   "outputs": [
    {
     "data": {
      "text/plain": [
       "[0.4303625680281284, 0.5761026599813036]"
      ]
     },
     "execution_count": 255,
     "metadata": {},
     "output_type": "execute_result"
    }
   ],
   "source": [
    "[evaluate.evaluate(svm_Predict, {evaluate.metricName:'f1'}),\n",
    "evaluate.evaluate(svm_Predict, {evaluate.metricName:'accuracy'})]"
   ]
  },
  {
   "cell_type": "markdown",
   "metadata": {},
   "source": [
    "**SVM Regression: F1 score is 0.43 while accuracy is 0.576. This result is similar with the logistic model. SVM also observed to take twice as long as Logistic regrssion to come to very similar results. Perhaps the data is not linearly separatable. Kernel will be applied Next on SVM.**\n"
   ]
  },
  {
   "cell_type": "code",
   "execution_count": 256,
   "metadata": {},
   "outputs": [
    {
     "data": {
      "text/plain": [
       "[('LocationAbbr', 'string'),\n",
       " ('race', 'string'),\n",
       " ('pctRate', 'float'),\n",
       " ('Seriousness', 'float'),\n",
       " ('RateAdjusted', 'float'),\n",
       " ('intercept', 'float')]"
      ]
     },
     "execution_count": 256,
     "metadata": {},
     "output_type": "execute_result"
    }
   ],
   "source": [
    "byRaceDF.dtypes"
   ]
  },
  {
   "cell_type": "code",
   "execution_count": 258,
   "metadata": {},
   "outputs": [],
   "source": [
    "@F.udf\n",
    "def addKernel(col1, col2, col3):\n",
    "    n1 = np.array([col1, col2, col3])\n",
    "    n2 = (n1 - n1.mean())**2/(2*np.std(n1)**2)\n",
    "    nsum = n2.sum()\n",
    "    ker = np.exp(-(nsum))\n",
    "    kout = float(ker)\n",
    "    return kout\n"
   ]
  },
  {
   "cell_type": "code",
   "execution_count": 270,
   "metadata": {},
   "outputs": [],
   "source": [
    "# Assemble a new set of Vecotor\n",
    "\n",
    "strIdx = StringIndexer(inputCols=['LocationAbbr', 'Seriousness', 'race'], outputCols=['State_idx', 'Serious_idx', 'race_idx'])\n",
    "\n",
    "raceIdx = strIdx.fit(byRaceDF).transform(byRaceDF)\n",
    "\n",
    "raceIdx = raceIdx.withColumn(\"kernel\", addKernel(F.col('RateAdjusted'), F.col('State_idx'), F.col('race_idx')))\n",
    "\n"
   ]
  },
  {
   "cell_type": "code",
   "execution_count": 272,
   "metadata": {},
   "outputs": [
    {
     "data": {
      "text/plain": [
       "['LocationAbbr',\n",
       " 'race',\n",
       " 'pctRate',\n",
       " 'Seriousness',\n",
       " 'RateAdjusted',\n",
       " 'intercept',\n",
       " 'State_idx',\n",
       " 'Serious_idx',\n",
       " 'race_idx',\n",
       " 'kernel']"
      ]
     },
     "execution_count": 272,
     "metadata": {},
     "output_type": "execute_result"
    }
   ],
   "source": [
    "raceIdx.columns"
   ]
  },
  {
   "cell_type": "code",
   "execution_count": 273,
   "metadata": {},
   "outputs": [],
   "source": [
    "raceIdx = raceIdx.withColumn('kernel',raceIdx['kernel'].cast(\"float\").alias('kernel'))"
   ]
  },
  {
   "cell_type": "code",
   "execution_count": 299,
   "metadata": {},
   "outputs": [],
   "source": [
    "oneHot = OneHotEncoder(inputCols=['State_idx', 'race_idx'], outputCols=['State_vec', 'race_vec'])\n",
    "\n",
    "raceCoded = oneHot.fit(raceIdx).transform(raceIdx)\n",
    "\n",
    "assemble = VectorAssembler(inputCols=['RateAdjusted', 'State_vec', 'race_vec','kernel', 'intercept'], outputCol = 'features')\n",
    "raceCoded = assemble.setHandleInvalid(\"skip\").transform(raceCoded)\n"
   ]
  },
  {
   "cell_type": "code",
   "execution_count": 300,
   "metadata": {},
   "outputs": [],
   "source": [
    "# split data again into train and test set\n",
    "raceModelDF_wKernel = raceCoded.select(['Serious_idx', 'features'])\n",
    "raceModelDF_train_k, raceModelDF_test_k = raceModelDF_wKernel.randomSplit([0.75, 0.25], seed=1006)\n"
   ]
  },
  {
   "cell_type": "code",
   "execution_count": 301,
   "metadata": {},
   "outputs": [
    {
     "name": "stdout",
     "output_type": "stream",
     "text": [
      "+-----------+--------------------+\n",
      "|Serious_idx|            features|\n",
      "+-----------+--------------------+\n",
      "|        0.0|(60,[0,1,54,58,59...|\n",
      "|        0.0|(60,[0,1,55,58,59...|\n",
      "|        0.0|(60,[0,3,58,59],[...|\n",
      "|        0.0|(60,[0,5,55,58,59...|\n",
      "+-----------+--------------------+\n",
      "only showing top 4 rows\n",
      "\n"
     ]
    }
   ],
   "source": [
    "raceModelDF_train_k.show(4)"
   ]
  },
  {
   "cell_type": "code",
   "execution_count": 302,
   "metadata": {},
   "outputs": [
    {
     "name": "stdout",
     "output_type": "stream",
     "text": [
      "+-----------+----------+-----+\n",
      "|Serious_idx|prediction|count|\n",
      "+-----------+----------+-----+\n",
      "|        1.0|       1.0|  106|\n",
      "|        0.0|       1.0|   19|\n",
      "|        1.0|       0.0| 4922|\n",
      "|        0.0|       0.0| 6635|\n",
      "+-----------+----------+-----+\n",
      "\n"
     ]
    }
   ],
   "source": [
    "# Try SVM again\n",
    "lsvc = LinearSVC(labelCol=\"Serious_idx\", featuresCol=\"features\")\n",
    "\n",
    "# Fit the model\n",
    "lsvcModel = lsvc.fit(raceModelDF_train_k)\n",
    "\n",
    "svm_Predict = lsvcModel.transform(raceModelDF_test_k)\n",
    "svm_Predict.groupBy('Serious_idx', 'prediction').count().show()"
   ]
  },
  {
   "cell_type": "code",
   "execution_count": 303,
   "metadata": {},
   "outputs": [
    {
     "data": {
      "text/plain": [
       "[0.43275956152284556, 0.5770416024653313]"
      ]
     },
     "execution_count": 303,
     "metadata": {},
     "output_type": "execute_result"
    }
   ],
   "source": [
    "[evaluate.evaluate(svm_Predict, {evaluate.metricName:'f1'}),\n",
    "evaluate.evaluate(svm_Predict, {evaluate.metricName:'accuracy'})]"
   ]
  },
  {
   "cell_type": "markdown",
   "metadata": {},
   "source": [
    "**Using the kernel trick, F1 score remains at 0.43 and accuracy remains at 0.577. This model is not very predictive. This may be due to poor selection of the feature variables. There maybe underlying or \"missing\" features not accounted for. This may be a good candidate to try EM for GMM algorithm to see if we can cluster these data into buckets for future practice**"
   ]
  },
  {
   "cell_type": "markdown",
   "metadata": {},
   "source": [
    "### Last thing I want to try is to use Race as a response variable to see if we can collectly classify Race using percent of cases, location, and if the case rate has been adjusted for age. I will use NaiveBayes for this"
   ]
  },
  {
   "cell_type": "code",
   "execution_count": 307,
   "metadata": {},
   "outputs": [
    {
     "data": {
      "text/plain": [
       "[('LocationAbbr', 'string'),\n",
       " ('race', 'string'),\n",
       " ('pctRate', 'float'),\n",
       " ('Seriousness', 'float'),\n",
       " ('RateAdjusted', 'float'),\n",
       " ('intercept', 'float'),\n",
       " ('State_idx', 'double'),\n",
       " ('Serious_idx', 'double'),\n",
       " ('race_idx', 'double'),\n",
       " ('kernel', 'float'),\n",
       " ('State_vec', 'vector'),\n",
       " ('race_vec', 'vector'),\n",
       " ('features', 'vector')]"
      ]
     },
     "execution_count": 307,
     "metadata": {},
     "output_type": "execute_result"
    }
   ],
   "source": [
    "raceCoded.dtypes"
   ]
  },
  {
   "cell_type": "code",
   "execution_count": 322,
   "metadata": {},
   "outputs": [],
   "source": [
    "assemble = VectorAssembler(inputCols=['RateAdjusted', 'State_vec', 'Seriousness', 'pctRate'], outputCol = 'features2')\n",
    "raceCoded2 = assemble.setHandleInvalid(\"skip\").transform(raceCoded)\n",
    "\n"
   ]
  },
  {
   "cell_type": "code",
   "execution_count": 323,
   "metadata": {},
   "outputs": [],
   "source": [
    "# split data again into train and test set\n",
    "raceModelDF_nbay = raceCoded2.select(['race_idx', 'features2'])\n",
    "raceModelDF_nbay = raceModelDF_nbay.withColumnRenamed('features2', 'features')"
   ]
  },
  {
   "cell_type": "code",
   "execution_count": 324,
   "metadata": {},
   "outputs": [],
   "source": [
    "nbay_train_k, nbay_test_k = raceModelDF_nbay.randomSplit([0.75, 0.25], seed=1006)"
   ]
  },
  {
   "cell_type": "code",
   "execution_count": 325,
   "metadata": {},
   "outputs": [
    {
     "name": "stdout",
     "output_type": "stream",
     "text": [
      "+-----+-----+\n",
      "| race|count|\n",
      "+-----+-----+\n",
      "|other|21560|\n",
      "|  all| 7012|\n",
      "|white| 6897|\n",
      "|black| 5503|\n",
      "|latin| 5283|\n",
      "+-----+-----+\n",
      "\n"
     ]
    }
   ],
   "source": [
    "raceCoded.groupBy('race').count().orderBy(F.col('count').desc()).show()"
   ]
  },
  {
   "cell_type": "code",
   "execution_count": 326,
   "metadata": {},
   "outputs": [
    {
     "name": "stdout",
     "output_type": "stream",
     "text": [
      "+--------+----------+-----+\n",
      "|race_idx|prediction|count|\n",
      "+--------+----------+-----+\n",
      "|     2.0|       0.0| 1751|\n",
      "|     1.0|       1.0|   29|\n",
      "|     0.0|       1.0|   13|\n",
      "|     1.0|       0.0| 1731|\n",
      "|     3.0|       1.0|    3|\n",
      "|     0.0|       0.0| 5475|\n",
      "|     4.0|       0.0| 1287|\n",
      "|     3.0|       0.0| 1390|\n",
      "|     4.0|       1.0|    3|\n",
      "+--------+----------+-----+\n",
      "\n"
     ]
    }
   ],
   "source": [
    "from pyspark.ml.classification import NaiveBayes\n",
    "\n",
    "nb = NaiveBayes(featuresCol='features', labelCol='race_idx', smoothing=1.0, modelType='multinomial')\n",
    "\n",
    "nbmodel = nb.fit(nbay_train_k)\n",
    "\n",
    "nbpredict = nbmodel.transform(nbay_test_k)\n",
    "nbpredict.groupBy('race_idx', 'prediction').count().show()\n"
   ]
  },
  {
   "cell_type": "code",
   "execution_count": 327,
   "metadata": {},
   "outputs": [
    {
     "data": {
      "text/plain": [
       "[0.30527224351139043, 0.4711521999657593]"
      ]
     },
     "execution_count": 327,
     "metadata": {},
     "output_type": "execute_result"
    }
   ],
   "source": [
    "evaluate.setLabelCol('race_idx')\n",
    "\n",
    "[evaluate.evaluate(nbpredict, {evaluate.metricName:'f1'}),\n",
    "evaluate.evaluate(nbpredict, {evaluate.metricName:'accuracy'})]"
   ]
  },
  {
   "cell_type": "code",
   "execution_count": 331,
   "metadata": {},
   "outputs": [
    {
     "data": {
      "text/plain": [
       "[0.997631195335277, 0.4706034038164002]"
      ]
     },
     "execution_count": 331,
     "metadata": {},
     "output_type": "execute_result"
    }
   ],
   "source": [
    "#recall, precision\n",
    "[5475/(5475+13), 5475/(5475+1751+1731+1287+1390)]"
   ]
  },
  {
   "cell_type": "markdown",
   "metadata": {},
   "source": [
    "**In trying to predict race, F1 score of the prediction is 0.3 and accuracy is 0.47. \n",
    "This model is not doing a good job predicting multiple races. Only the top 2 most frequent category is able to be classified. Even though, the recall for Other race (coded = 0) is  0.99, the precision is terrible at 0.47. Poor model may be caused by noisy and unbalance trainining data. Also,part of the poor model may also because the race/ethnicity was labeled base on the analyst pre-conceived notion. A better approach may be to simply stratify the original data set to 'Gender' and 'Ethnicity', then perform unsupervised learning over the data (GMM perhaps) to let the data natural cluster rather than forcing the data to be classified.**"
   ]
  },
  {
   "cell_type": "markdown",
   "metadata": {},
   "source": [
    "Thank you for a wonderful class. \n",
    "\n",
    "Nguyen Vu"
   ]
  },
  {
   "cell_type": "code",
   "execution_count": null,
   "metadata": {},
   "outputs": [],
   "source": []
  }
 ],
 "metadata": {
  "kernelspec": {
   "display_name": "Python 3",
   "language": "python",
   "name": "python3"
  },
  "language_info": {
   "codemirror_mode": {
    "name": "ipython",
    "version": 3
   },
   "file_extension": ".py",
   "mimetype": "text/x-python",
   "name": "python",
   "nbconvert_exporter": "python",
   "pygments_lexer": "ipython3",
   "version": "3.7.6"
  }
 },
 "nbformat": 4,
 "nbformat_minor": 4
}
