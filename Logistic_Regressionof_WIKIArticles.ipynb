{
  "nbformat": 4,
  "nbformat_minor": 0,
  "metadata": {
    "colab": {
      "name": "Logistic_Regressionof WIKIArticles.ipynb",
      "provenance": [],
      "collapsed_sections": [],
      "include_colab_link": true
    },
    "kernelspec": {
      "display_name": "Python 3",
      "language": "python",
      "name": "python3"
    },
    "language_info": {
      "codemirror_mode": {
        "name": "ipython",
        "version": 3
      },
      "file_extension": ".py",
      "mimetype": "text/x-python",
      "name": "python",
      "nbconvert_exporter": "python",
      "pygments_lexer": "ipython3",
      "version": "3.7.6"
    }
  },
  "cells": [
    {
      "cell_type": "markdown",
      "metadata": {
        "id": "view-in-github",
        "colab_type": "text"
      },
      "source": [
        "<a href=\"https://colab.research.google.com/github/NguyenVu06/BigDataSpark/blob/master/Logistic_Regressionof_WIKIArticles.ipynb\" target=\"_parent\"><img src=\"https://colab.research.google.com/assets/colab-badge.svg\" alt=\"Open In Colab\"/></a>"
      ]
    },
    {
      "cell_type": "code",
      "metadata": {
        "id": "9982dapHxzNs"
      },
      "source": [
        "# Spark installation on Colab\n",
        "# !apt-get install openjdk-8-jdk-headless -qq > /dev/null\n",
        "!wget -q https://downloads.apache.org/spark/spark-3.0.0/spark-3.0.0-bin-hadoop3.2.tgz\n",
        "!tar xf spark-3.0.0-bin-hadoop3.2.tgz\n",
        "!pip install -q findspark\n",
        "!rm -rf spark-3.0.0-bin-hadoop3.2.tgz"
      ],
      "execution_count": null,
      "outputs": []
    },
    {
      "cell_type": "code",
      "metadata": {
        "id": "Nor9olN20p0M"
      },
      "source": [
        "# Set JAVA_HOME and SPARK_HOME\n",
        "import os\n",
        "os.environ[\"JAVA_HOME\"] = \"/usr/lib/jvm/java-11-openjdk-amd64\"\n",
        "os.environ[\"SPARK_HOME\"] = \"spark-3.0.0-bin-hadoop3.2\"\n",
        "\n",
        "import findspark\n",
        "findspark.init(\"spark-3.0.0-bin-hadoop3.2\")# SPARK_HOME\n",
        "\n"
      ],
      "execution_count": null,
      "outputs": []
    },
    {
      "cell_type": "code",
      "metadata": {
        "id": "J2sxIcg_R0k6"
      },
      "source": [
        "import sys\n",
        "import re\n",
        "import numpy as np\n",
        "from numpy import dot\n",
        "from numpy.linalg import norm\n",
        "from operator import add\n",
        "\n",
        "from pyspark.sql import SparkSession\n",
        "from pyspark import SparkContext\n",
        "import matplotlib.pyplot as plt\n",
        "\n",
        "regex = re.compile('[^a-zA-Z]')\n",
        "spark = SparkSession.builder.master(\"local[*]\").getOrCreate()\n",
        "sc = SparkContext.getOrCreate()\n",
        "\n"
      ],
      "execution_count": null,
      "outputs": []
    },
    {
      "cell_type": "code",
      "metadata": {
        "id": "QJ4G-dABR0lC"
      },
      "source": [
        "!wget https://s3.amazonaws.com/metcs777/SmallTrainingData.txt"
      ],
      "execution_count": null,
      "outputs": []
    },
    {
      "cell_type": "code",
      "metadata": {
        "id": "FmiussKiZTmr"
      },
      "source": [
        "pages=sc.textFile(\"SmallTrainingData.txt\")"
      ],
      "execution_count": null,
      "outputs": []
    },
    {
      "cell_type": "code",
      "metadata": {
        "id": "cTjtpkI4ZTmt",
        "outputId": "cce673f6-6eab-42da-9eee-f0454adc6004"
      },
      "source": [
        "pages.take(1)"
      ],
      "execution_count": null,
      "outputs": [
        {
          "output_type": "execute_result",
          "data": {
            "text/plain": [
              "['<doc id=\"AU35\" url=\"http://www.austlii.edu.au/au/cases/cth/FCA/2006/1069.html\" title=\"fulltext/06_1069.xml\">consideration of an application for a stay pending an appeal.native titleI have before me an application by notice of motion filed on 30 June 2006 by which the applicant seeks an order that two orders of his Honour Justice Dowsett made on 6 October 2005 and 19 June 2006 be stayed pending the determination of an appeal to the Full Court of this Court.On 6 October 2005, his Honour made an order that \\'the applicant file and serve an amended application on or before 14 October 2005, in default thereof the application stands dismissed\\' .His Honour also ordered that the Native Title Registrar contact the applicant to coordinate continued negotiations between the applicant group and other claimant groups in relation to overlapping claims concerning claims made by members of the Wiri People in connection with \\'Wiri country\\' defined by reference to particular claim boundaries.His Honour also ordered that the matter otherwise be adjourned to 31 March 2006 at 10.15am.On 19 June 2006, his Honour made four orders in the matter and they are these.The self executing order of 6 October 2005 has taken effect and the Wiri People #2 stands dismissed.Leave to appeal the self executing order of 6 October 2005 is refused.An extension of time for compliance with the order made on 6 October 2005 is refused.Leave to appeal from order 3 of these orders be granted.On 30 June 2006, the applicant filed a notice of appeal from the whole of the judgment of his Honour Justice Dowsett given on 19 June 2006.The appellant contends that his Honour erred in finding that the applicant had failed to comply with paragraph 1 of the order of 6 October 2005 in circumstances where an amended Native Title application had been prepared by 14 October 2005 together with a notice of motion seeking leave to file an amended application in the form proposed on 14 October 2005 and annexed to the affidavit of the applicant\\'s solicitor sworn and filed on 14 October 2005 in support of the motion and in circumstances where the motion filed on 14 October 2005 had not been determined.The appellant further contends his Honour erred, in finding that the applicant\\'s proceeding stood dismissed at 14 October 2005; in failing to hear and determine the notice of motion filed on 14 October 2005 before making a finding that the self executing order had not been satisfied; in failing to discharge or vary the self executing order; and in failing to extend the time for compliance with the self executing order pursuant to Order 3, r 3 of the Federal Court Rules .On 30 June 2006, the applicant filed a notice of motion seeking, apart from the order for a stay of the abovementioned orders, the following orders: The applicant be granted leave to appeal from the order of his Honour Mr Justice Dowsett made 6 October 2005 pursuant to Order 52, Rule 10 and  of the Federal Court Rules .That in respect of his Honour\\'s order of 6 October 2005 the requirements of Order 52, Rule 5 of the Federal Court Rules be dispensed with.On 26 July 2006, I made an order by consent that paragraphs 1 and 2 of the application made by the notice of motion filed on 30 June 2006 be heard and determined by the Full Court in conjunction with the notice of appeal from the whole of the judgment of his Honour given on 19 June 2006.That left for determination, the question of whether an order ought to be made effecting a stay of either or both of the orders of his Honour of 6 October 2005 and 19 June 2006.Counsel for the State of Queensland, Mr Hiley QC, advised the Court that although the State proposed to make observations on certain aspects of the history of the application and objections to particular paragraphs of the affidavit of Ms Susan Jane Gilmour sworn 30 June 2006 and relied upon by the applicant in support of the application for an order for a stay, the State does not oppose the making of an order for a stay.Because the application involves the exercise of a discretion, I invited Mr Hiley QC to say whether the operative order which effected the dismissal of the application was the order of 6 October 2005 or whether the operative order was the order of 19 June 2006.I made the observation that if the operative order was the order of 6 October 2005, it may be that there is nothing to stay because the self executing order has done its work and effected the dismissal of the action.The order of 19 June 2006 may simply be declaratory of the position effected by the order of 6 October 2005.The applicant contends that the operative order is the order of 19 June 2006 because the making of that order necessarily involves an adjudication of a controversy of fact as to whether the relevant event occurred.The contention is that any \\'self executing\\' order should properly be seen as a \\'conditional order\\' and a second step will always remain to be determined as an exercise of judicial power as to whether the event contemplated by the condition occurred.Accordingly, it is said that his Honour made a finding of fact on 19 June 2006 that it had occurred and then made a dispositive order that the application \\'stands dismissed\\'.Counsel for the State of Queensland was not in a position to respond to the question of whether the operative order was the order of 19 June 2006 or whether the order of 6 October 2005 effected a dismissal of the application and, on one view, left nothing to be \\'stayed\\'.Mr Hiley QC indicated that he would wish to make written submissions on that question and accordingly leave was given to file written submissions by 4.00pm Wednesday, 2 August 2006 with submissions in reply by the applicant by 4.00pm Wednesday, 9 August 2006.I indicated that I would determine the application promptly upon receipt of those submissions.The position of the respondent is that it does not oppose an application for a stay that is competent as a matter of law.A number of objections are taken by the State of Queensland to the affidavit of Ms Gilmour and are based upon relevance, hearsay, legal submissions on the part of the deponent and speculation as to consequences of a failure to obtain a stay.I propose to admit the affidavit of Ms Gilmour in its entirety.The matters that are challenged on the ground of relevance ought to be admitted as part of the context and narrative of events and as relevant to the exercise of the discretion.Whilst it is true to say that those matters which are the subject of hearsay ought to reflect the sources of information and a belief in the information provided to the deponent, the material generally goes to negotiations with mining corporations and other third parties that may have an interest in taking certain steps in connection with the relevant land.I propose to admit the sentences that are challenged but in doing so I recognise that the form in which the evidence is put leads me to be cautious about aspects of it.As to those paragraphs which represent observations in the nature of submissions and commentary, they ought properly to be the subject of submissions but it is not uncommon in applications of this kind to find that a solicitor for a party makes conclusionary observations about the effect or consequences of events or provisions and legislation.I simply propose to treat those matters as submissions.The respondent was served with the affidavit of Ms Gilmour shortly before the hearing of the motion and accordingly the respondent says it was not in a position to prepare an affidavit in reply.Mr Hiley QC tendered a document which provides comments in relation to paragraphs 8, 12 and 18 of the affidavit of Ms Gilmour.The document is tendered without objection.I have marked the document Exhibit \\'A\\' for identification.The comments on those paragraphs add, it is said, certain additional contextual facts.The underlying events are these.The application by the claimant group described as Wiri #2 was commenced in 1998 and was the subject of an amended application in 1999.Questions arose as to the \\'authorisation\\' of the claimant members to bring the claim and the \\'constitution\\' of the claimant group.The group as presently constituted is in the nature of a \\'sub-group\\' of the Wiri People.There were originally four claims described as Wiri #1, Wiri #2, Wiri #3 and Wiri #4.The members of each of these groups did not overlap in their respective claims.The avoidance of an overlap issue assisted each claimant group to satisfy the registration test under the Native Title Act 1993  (\\'the Act\\').The claims on behalf of Wiri #1, #3 and #4 were dismissed by his Honour Dowsett J approximately a year ago.The Wiri #2 claim remained alive.The point of emphasis made by the applicant is that the registration by the Native Title Registrar under the Act provides the Wiri #2 claimant group with \\'procedural rights\\' which, upon dismissal of the application, are lost.These procedural rights are enjoyed not by the Wiri People but rather by only those members constituting the sub-group of the Wiri People whose claim is registered.Accordingly, the Wiri #2 claimant group enjoy a considerable procedural advantage over other members of the Wiri People.The claimant group constituting the Wiri #2 claim does not represent all of the Wiri People who are said to have Native Title over the area of land in question.Accordingly, one aspect of the amendments was to expand the members of the claimant group to be more inclusive.In addition, meetings needed to be convened to consider and if thought appropriate pass resolutions authorising (in an appropriate manner having regard to customary law or otherwise) the making of a new claim.On 29 April 2005, his Honour ordered the Wiri #2 applicant to meet at the Mackay Showgrounds on 21 and 22 May 2005 with the applicants from Wiri #1, Wiri #3 and Wiri #4 claims and the respective Wiri claimant groups to consider authorising a new claim.In addition, his Honour ordered the applicant to file and serve any amended application or further application on or before 22 July 2005 and to file, not later than 22 September 2005, a work plan for the subsequent six month period, among other orders.At the meeting in May 2005 at Mackay, resolutions were passed to the effect that a new claim called the \\'Wiri Core Country Claim\\' would be made which would be more inclusive of all groups and, in consequence, the boundaries of the Wiri #2 claim would be reduced so as to avoid any overlap with the boundaries of the Wiri Core Country Claim .Accordingly, questions which have been alive for some time in connection with this claim (Wiri #2) involve the constitution of the claimant group, the authorisation that group enjoys to advance the claim and the definition of the boundaries for the Wiri #2 claim.On 21 and 22 May 2005, the Central Queensland Land Council (\\'CQLC\\') convened the meeting contemplated by his Honour\\'s order of 29 April 2005.The meeting resolved to instruct the CQLC to file a new Native Title application.The area of the application the subject of Wiri #2 would be amended and reduced so as to exclude the area of the new application and be contiguous with it.At a directions hearing in Townsville on 6 October 2005 his Honour Justice Dowsett ordered the applicant to file and serve an amended application by 14 October 2005 in default of which the application would stand dismissed.On 14 October 2005, the applicant filed a notice of motion seeking leave to amend the application supported by an affidavit sworn by Mr Owens also dated 14 October 2005.That motion was listed for hearing before the Deputy District Registrar on 2 November 2005 but was adjourned at the request of the applicant for a period of one month to enable errors and omissions in the amended application to be corrected.The hearing date of 16 November 2005 was subsequently vacated and the motion was listed for hearing on 16 December 2005.The motion was ultimately adjourned in March 2006 by his Honour Dowsett J to a date to be fixed.In proceedings on 30 March 2006, his Honour Dowsett J sought to identify the relationship between the Wiri #2 claim and a claim described as Wiri #5 (QUD429 of 2005) and matters going to the authorisation of the Wiri #2 and Wiri #5 matters (see p 44 of the Transcript of 31 March 2006).On 19 June 2006, the matter came before his Honour again.The CQLC sought to strike out the Wiri #2 claim for failure to comply with the order of 6 October 2005.The State of Queensland raised the question of whether the order of 6 October 2005 had the effect of dismissing the application although, it is said, that particular matter was not pressed by the State of Queensland.His Honour considered the question of whether the election on the part of the applicant to file a notice of motion seeking leave to amend the application complied with the order.His Honour concluded that it did not as a proper matter of construction particularly having regard to the concerns which led to the making of the order, namely, that the application needed to be amended to take account of issues concerning both the constitution of the claimant group and the authorisation to make the claim, notwithstanding that the issues which seemed to agitate the mind of the applicant were firstly, a difficulty of amending the application to reflect changes to the definition of the boundaries of the land by the insertion of grid coordinates and secondly, a mistaken belief that further leave was necessary to file an amended application.The issues of constitution of the claimant group and authorisation do not seem to have been addressed.His Honour concluded that the order of 6 October 2005 had taken effect and that the application stood dismissed.The applicant, in consequence, sought immediate leave to appeal from the order of 6 October 2005.Having regard to the lengthy period of elapsed time, the importance of case management and the recognition that the applicant \\'all but consented to the order\\', his Honour refused leave to appeal thus exercising an appellate function in the consideration of that application.The applicant then sought an extension of time for compliance with the order of 6 October 2005 which was refused.His Honour gave leave to appeal the refusal of an extension of time.As a result, there is an appeal with leave from the refusal by his Honour on 19 June 2006 to extend time to file an amended application and a further application for leave to appeal from the order of his Honour of 6 October 2005 notwithstanding the determination of the first application for leave made before his Honour on 19 June 2006.Pending the determination of the appeal and the further application, the applicant seeks a stay of each order.Both the applicant and the respondent accept that the consequence of the dismissal of the application is that the Native Title Registrar will take steps to remove the Wiri #2 claim from registration with the result that certain procedural rights under the Act will no longer be available to those claimants.In addition, the applicant and respondent concede that certain prejudice may well flow to those claimants in the context of negotiations with third parties although the applicant contends that there are other protective mechanisms such as the service of notices under the future act regime upon representative bodies such as the Central Queensland Land Council which has a responsibility to ensure that notice of a future act is conveyed to those individuals that the CQLC believes are relevant Native Title holders although not the subject of a registered claim.In written submissions, the respondent contends that the operative order is the order of 6 October 2005.His Honour embarked upon consideration on 19 June 2006 of whether the applicant had complied with the order of 6 October 2005 and having made a finding that the applicant was in default, his Honour declared that the proceeding stood dismissed from 14 October 2005.His Honour did not, on 19 June 2006, dismiss the application.His Honour embarked upon a determination of whether the condition upon which the order rested was satisfied and declared that the order took effect according to its terms.The order of 6 October 2005 is the source of the dismissal of the application.The order is a conflation of two things, namely, an order that the applicant take a step by a certain date and an order that upon default the proceeding \\'stands dismissed\\' as to the whole of the relief claimed by the applicant (see Order 35A, r 2 and r 3).The order made on 19 June 2006 is declaratory of the construction of the order of 6 October 2005 and not, in my view, the operative order of dismissal of the application.See NBGI v MIMIA [2005] FCAFC 233 per Black CJ, Finkelstein and Allsop JJ at [11] and Lenijamar Pty Limited v AGC Advances Limited (1990) 27 FCR 388.Orders 2, 3 and 4 of his Honour\\'s order of 19 June 2006 are operative orders in terms of the subject matter they address.There is no doubt that the Court has power, after the event, to extend the time for the filing of an amended application.See Sammy Russo Meat Supplies Pty Ltd v Australian Safeway Stores Pty Ltd [1999] FCA 1381 per Goldberg J at [21], FAI General Insurance Co. Ltd v Southern Cross Exploration NL (1987 --- 1988) [1988] HCA 13 ; 165 CLR 268 at pp 283-284; Lowe v Mack Trucks Australia Pty Ltd [2001] FCA 388 ; Goodwill Group Pty Ltd v Pongrass Associates Pty Ltd [2002] FCA 1203 per French J at [103].In this application, the applicant seeks an order staying the orders of 19 June 2006 which comprise four orders.Since order 1 of the orders of 19 June 2006 is not an operative order effecting a dismissal, I do not propose to stay the operation of the declaration as to the effect of the order of 6 October 2005 from the date of the failure to comply with the condition.Order 3 of the order of 19 June 2006 is a refusal of an extension of time for compliance with the order of 6 October 2005.That matter is the subject of leave to appeal.If the appeal is meritorious, the Court has power to set aside order 3 and extend time to enable an amended application to be filed thus reinstating the application.An application to stay a refusal to extend time is apt to be construed as an order extending time.That matter is before the Full Court.The applicant also seeks a stay in respect of the orders of 6 October 2005.I propose to stay order 1 of that order, pending the determination of the appeal (with leave) from the refusal on 19 June 2006 to extend the time for the filing of an amended application, to the extent that the order of 6 October 2005 provides, prospectively, that the application \\'stands dismissed\\'.The respondent does not oppose the application for a stay which I understand to mean that the respondent submits that in exercising the discretion I ought to be satisfied that there is at least an arguable case to be made, although not a persuasive case, in support of the appeal with leave consistent with Powerflex Services Pty Ltd v Data Access Corp. (1996) 137 ALR 498 and Alexander v Cambridge Credit Corp. Ltd (Receivers Appointed) (1985) 2 NSWLR 685.Prima facie, of course, the judgment appealed from is correct and a successful party is entitled to the benefit of the judgment obtained by him and is entitled to commence with the presumption that the judgment is correct ( Re Middle Harbour Investments Ltd (In Liq) (No.NSWLR 652.However, since the application filed by Wiri #2 has now only reached the stage of a proposed amended application notwithstanding a period of eight years since the filing of the application, the order for a stay ought to be made conditional upon an undertaking by the applicant to \\'expeditiously prosecute the appeal the subject of the notice of appeal dated 30 June 2006 and the two matters referred to the Full Court by operation of the orders made by Greenwood J on 26 July 2006\\' .The Wiri #2 application cannot be allowed to proceed on the same slow footing upon which it has been conducted to date by the applicant.I propose to make an order for a stay as outlined above subject to the applicant providing the undertaking referred to at [27] within such time as the applicant is able to do so but no later than 4.00pm, Wednesday, 23 August 2006.I propose to reserve the costs of the application.</doc>']"
            ]
          },
          "metadata": {
            "tags": []
          },
          "execution_count": 42
        }
      ]
    },
    {
      "cell_type": "code",
      "metadata": {
        "id": "s5nZoQz_R0lP",
        "colab": {
          "base_uri": "https://localhost:8080/",
          "height": 34
        },
        "outputId": "acc820c3-ac42-476c-bf01-f8d0d532b31b"
      },
      "source": [
        "# Assumption: Each document is stored in one line of the text file\n",
        "# We need this count later ... \n",
        "numberOfDocs = pages.count()\n",
        "\n",
        "print(numberOfDocs)\n",
        "\n",
        "# Each entry in validLines will be a line from the text file\n",
        "validLines = pages.filter(lambda x : 'id' in x and 'url=' in x)\n",
        "\n",
        "# Now, we transform it into a set of (docID, text) pairs\n",
        "keyAndText = pages.map(lambda x : (x[x.index('id=\"') + 4 : x.index('\" url=')], x[x.index('\">') + 2:][:-6])) \n",
        "\n",
        "keyAndText.take(1)"
      ],
      "execution_count": null,
      "outputs": [
        {
          "output_type": "stream",
          "text": [
            "3442\n"
          ],
          "name": "stdout"
        },
        {
          "output_type": "execute_result",
          "data": {
            "text/plain": [
              "[('AU35',\n",
              "  \"consideration of an application for a stay pending an appeal.native titleI have before me an application by notice of motion filed on 30 June 2006 by which the applicant seeks an order that two orders of his Honour Justice Dowsett made on 6 October 2005 and 19 June 2006 be stayed pending the determination of an appeal to the Full Court of this Court.On 6 October 2005, his Honour made an order that 'the applicant file and serve an amended application on or before 14 October 2005, in default thereof the application stands dismissed' .His Honour also ordered that the Native Title Registrar contact the applicant to coordinate continued negotiations between the applicant group and other claimant groups in relation to overlapping claims concerning claims made by members of the Wiri People in connection with 'Wiri country' defined by reference to particular claim boundaries.His Honour also ordered that the matter otherwise be adjourned to 31 March 2006 at 10.15am.On 19 June 2006, his Honour made four orders in the matter and they are these.The self executing order of 6 October 2005 has taken effect and the Wiri People #2 stands dismissed.Leave to appeal the self executing order of 6 October 2005 is refused.An extension of time for compliance with the order made on 6 October 2005 is refused.Leave to appeal from order 3 of these orders be granted.On 30 June 2006, the applicant filed a notice of appeal from the whole of the judgment of his Honour Justice Dowsett given on 19 June 2006.The appellant contends that his Honour erred in finding that the applicant had failed to comply with paragraph 1 of the order of 6 October 2005 in circumstances where an amended Native Title application had been prepared by 14 October 2005 together with a notice of motion seeking leave to file an amended application in the form proposed on 14 October 2005 and annexed to the affidavit of the applicant's solicitor sworn and filed on 14 October 2005 in support of the motion and in circumstances where the motion filed on 14 October 2005 had not been determined.The appellant further contends his Honour erred, in finding that the applicant's proceeding stood dismissed at 14 October 2005; in failing to hear and determine the notice of motion filed on 14 October 2005 before making a finding that the self executing order had not been satisfied; in failing to discharge or vary the self executing order; and in failing to extend the time for compliance with the self executing order pursuant to Order 3, r 3 of the Federal Court Rules .On 30 June 2006, the applicant filed a notice of motion seeking, apart from the order for a stay of the abovementioned orders, the following orders: The applicant be granted leave to appeal from the order of his Honour Mr Justice Dowsett made 6 October 2005 pursuant to Order 52, Rule 10 and  of the Federal Court Rules .That in respect of his Honour's order of 6 October 2005 the requirements of Order 52, Rule 5 of the Federal Court Rules be dispensed with.On 26 July 2006, I made an order by consent that paragraphs 1 and 2 of the application made by the notice of motion filed on 30 June 2006 be heard and determined by the Full Court in conjunction with the notice of appeal from the whole of the judgment of his Honour given on 19 June 2006.That left for determination, the question of whether an order ought to be made effecting a stay of either or both of the orders of his Honour of 6 October 2005 and 19 June 2006.Counsel for the State of Queensland, Mr Hiley QC, advised the Court that although the State proposed to make observations on certain aspects of the history of the application and objections to particular paragraphs of the affidavit of Ms Susan Jane Gilmour sworn 30 June 2006 and relied upon by the applicant in support of the application for an order for a stay, the State does not oppose the making of an order for a stay.Because the application involves the exercise of a discretion, I invited Mr Hiley QC to say whether the operative order which effected the dismissal of the application was the order of 6 October 2005 or whether the operative order was the order of 19 June 2006.I made the observation that if the operative order was the order of 6 October 2005, it may be that there is nothing to stay because the self executing order has done its work and effected the dismissal of the action.The order of 19 June 2006 may simply be declaratory of the position effected by the order of 6 October 2005.The applicant contends that the operative order is the order of 19 June 2006 because the making of that order necessarily involves an adjudication of a controversy of fact as to whether the relevant event occurred.The contention is that any 'self executing' order should properly be seen as a 'conditional order' and a second step will always remain to be determined as an exercise of judicial power as to whether the event contemplated by the condition occurred.Accordingly, it is said that his Honour made a finding of fact on 19 June 2006 that it had occurred and then made a dispositive order that the application 'stands dismissed'.Counsel for the State of Queensland was not in a position to respond to the question of whether the operative order was the order of 19 June 2006 or whether the order of 6 October 2005 effected a dismissal of the application and, on one view, left nothing to be 'stayed'.Mr Hiley QC indicated that he would wish to make written submissions on that question and accordingly leave was given to file written submissions by 4.00pm Wednesday, 2 August 2006 with submissions in reply by the applicant by 4.00pm Wednesday, 9 August 2006.I indicated that I would determine the application promptly upon receipt of those submissions.The position of the respondent is that it does not oppose an application for a stay that is competent as a matter of law.A number of objections are taken by the State of Queensland to the affidavit of Ms Gilmour and are based upon relevance, hearsay, legal submissions on the part of the deponent and speculation as to consequences of a failure to obtain a stay.I propose to admit the affidavit of Ms Gilmour in its entirety.The matters that are challenged on the ground of relevance ought to be admitted as part of the context and narrative of events and as relevant to the exercise of the discretion.Whilst it is true to say that those matters which are the subject of hearsay ought to reflect the sources of information and a belief in the information provided to the deponent, the material generally goes to negotiations with mining corporations and other third parties that may have an interest in taking certain steps in connection with the relevant land.I propose to admit the sentences that are challenged but in doing so I recognise that the form in which the evidence is put leads me to be cautious about aspects of it.As to those paragraphs which represent observations in the nature of submissions and commentary, they ought properly to be the subject of submissions but it is not uncommon in applications of this kind to find that a solicitor for a party makes conclusionary observations about the effect or consequences of events or provisions and legislation.I simply propose to treat those matters as submissions.The respondent was served with the affidavit of Ms Gilmour shortly before the hearing of the motion and accordingly the respondent says it was not in a position to prepare an affidavit in reply.Mr Hiley QC tendered a document which provides comments in relation to paragraphs 8, 12 and 18 of the affidavit of Ms Gilmour.The document is tendered without objection.I have marked the document Exhibit 'A' for identification.The comments on those paragraphs add, it is said, certain additional contextual facts.The underlying events are these.The application by the claimant group described as Wiri #2 was commenced in 1998 and was the subject of an amended application in 1999.Questions arose as to the 'authorisation' of the claimant members to bring the claim and the 'constitution' of the claimant group.The group as presently constituted is in the nature of a 'sub-group' of the Wiri People.There were originally four claims described as Wiri #1, Wiri #2, Wiri #3 and Wiri #4.The members of each of these groups did not overlap in their respective claims.The avoidance of an overlap issue assisted each claimant group to satisfy the registration test under the Native Title Act 1993  ('the Act').The claims on behalf of Wiri #1, #3 and #4 were dismissed by his Honour Dowsett J approximately a year ago.The Wiri #2 claim remained alive.The point of emphasis made by the applicant is that the registration by the Native Title Registrar under the Act provides the Wiri #2 claimant group with 'procedural rights' which, upon dismissal of the application, are lost.These procedural rights are enjoyed not by the Wiri People but rather by only those members constituting the sub-group of the Wiri People whose claim is registered.Accordingly, the Wiri #2 claimant group enjoy a considerable procedural advantage over other members of the Wiri People.The claimant group constituting the Wiri #2 claim does not represent all of the Wiri People who are said to have Native Title over the area of land in question.Accordingly, one aspect of the amendments was to expand the members of the claimant group to be more inclusive.In addition, meetings needed to be convened to consider and if thought appropriate pass resolutions authorising (in an appropriate manner having regard to customary law or otherwise) the making of a new claim.On 29 April 2005, his Honour ordered the Wiri #2 applicant to meet at the Mackay Showgrounds on 21 and 22 May 2005 with the applicants from Wiri #1, Wiri #3 and Wiri #4 claims and the respective Wiri claimant groups to consider authorising a new claim.In addition, his Honour ordered the applicant to file and serve any amended application or further application on or before 22 July 2005 and to file, not later than 22 September 2005, a work plan for the subsequent six month period, among other orders.At the meeting in May 2005 at Mackay, resolutions were passed to the effect that a new claim called the 'Wiri Core Country Claim' would be made which would be more inclusive of all groups and, in consequence, the boundaries of the Wiri #2 claim would be reduced so as to avoid any overlap with the boundaries of the Wiri Core Country Claim .Accordingly, questions which have been alive for some time in connection with this claim (Wiri #2) involve the constitution of the claimant group, the authorisation that group enjoys to advance the claim and the definition of the boundaries for the Wiri #2 claim.On 21 and 22 May 2005, the Central Queensland Land Council ('CQLC') convened the meeting contemplated by his Honour's order of 29 April 2005.The meeting resolved to instruct the CQLC to file a new Native Title application.The area of the application the subject of Wiri #2 would be amended and reduced so as to exclude the area of the new application and be contiguous with it.At a directions hearing in Townsville on 6 October 2005 his Honour Justice Dowsett ordered the applicant to file and serve an amended application by 14 October 2005 in default of which the application would stand dismissed.On 14 October 2005, the applicant filed a notice of motion seeking leave to amend the application supported by an affidavit sworn by Mr Owens also dated 14 October 2005.That motion was listed for hearing before the Deputy District Registrar on 2 November 2005 but was adjourned at the request of the applicant for a period of one month to enable errors and omissions in the amended application to be corrected.The hearing date of 16 November 2005 was subsequently vacated and the motion was listed for hearing on 16 December 2005.The motion was ultimately adjourned in March 2006 by his Honour Dowsett J to a date to be fixed.In proceedings on 30 March 2006, his Honour Dowsett J sought to identify the relationship between the Wiri #2 claim and a claim described as Wiri #5 (QUD429 of 2005) and matters going to the authorisation of the Wiri #2 and Wiri #5 matters (see p 44 of the Transcript of 31 March 2006).On 19 June 2006, the matter came before his Honour again.The CQLC sought to strike out the Wiri #2 claim for failure to comply with the order of 6 October 2005.The State of Queensland raised the question of whether the order of 6 October 2005 had the effect of dismissing the application although, it is said, that particular matter was not pressed by the State of Queensland.His Honour considered the question of whether the election on the part of the applicant to file a notice of motion seeking leave to amend the application complied with the order.His Honour concluded that it did not as a proper matter of construction particularly having regard to the concerns which led to the making of the order, namely, that the application needed to be amended to take account of issues concerning both the constitution of the claimant group and the authorisation to make the claim, notwithstanding that the issues which seemed to agitate the mind of the applicant were firstly, a difficulty of amending the application to reflect changes to the definition of the boundaries of the land by the insertion of grid coordinates and secondly, a mistaken belief that further leave was necessary to file an amended application.The issues of constitution of the claimant group and authorisation do not seem to have been addressed.His Honour concluded that the order of 6 October 2005 had taken effect and that the application stood dismissed.The applicant, in consequence, sought immediate leave to appeal from the order of 6 October 2005.Having regard to the lengthy period of elapsed time, the importance of case management and the recognition that the applicant 'all but consented to the order', his Honour refused leave to appeal thus exercising an appellate function in the consideration of that application.The applicant then sought an extension of time for compliance with the order of 6 October 2005 which was refused.His Honour gave leave to appeal the refusal of an extension of time.As a result, there is an appeal with leave from the refusal by his Honour on 19 June 2006 to extend time to file an amended application and a further application for leave to appeal from the order of his Honour of 6 October 2005 notwithstanding the determination of the first application for leave made before his Honour on 19 June 2006.Pending the determination of the appeal and the further application, the applicant seeks a stay of each order.Both the applicant and the respondent accept that the consequence of the dismissal of the application is that the Native Title Registrar will take steps to remove the Wiri #2 claim from registration with the result that certain procedural rights under the Act will no longer be available to those claimants.In addition, the applicant and respondent concede that certain prejudice may well flow to those claimants in the context of negotiations with third parties although the applicant contends that there are other protective mechanisms such as the service of notices under the future act regime upon representative bodies such as the Central Queensland Land Council which has a responsibility to ensure that notice of a future act is conveyed to those individuals that the CQLC believes are relevant Native Title holders although not the subject of a registered claim.In written submissions, the respondent contends that the operative order is the order of 6 October 2005.His Honour embarked upon consideration on 19 June 2006 of whether the applicant had complied with the order of 6 October 2005 and having made a finding that the applicant was in default, his Honour declared that the proceeding stood dismissed from 14 October 2005.His Honour did not, on 19 June 2006, dismiss the application.His Honour embarked upon a determination of whether the condition upon which the order rested was satisfied and declared that the order took effect according to its terms.The order of 6 October 2005 is the source of the dismissal of the application.The order is a conflation of two things, namely, an order that the applicant take a step by a certain date and an order that upon default the proceeding 'stands dismissed' as to the whole of the relief claimed by the applicant (see Order 35A, r 2 and r 3).The order made on 19 June 2006 is declaratory of the construction of the order of 6 October 2005 and not, in my view, the operative order of dismissal of the application.See NBGI v MIMIA [2005] FCAFC 233 per Black CJ, Finkelstein and Allsop JJ at [11] and Lenijamar Pty Limited v AGC Advances Limited (1990) 27 FCR 388.Orders 2, 3 and 4 of his Honour's order of 19 June 2006 are operative orders in terms of the subject matter they address.There is no doubt that the Court has power, after the event, to extend the time for the filing of an amended application.See Sammy Russo Meat Supplies Pty Ltd v Australian Safeway Stores Pty Ltd [1999] FCA 1381 per Goldberg J at [21], FAI General Insurance Co. Ltd v Southern Cross Exploration NL (1987 --- 1988) [1988] HCA 13 ; 165 CLR 268 at pp 283-284; Lowe v Mack Trucks Australia Pty Ltd [2001] FCA 388 ; Goodwill Group Pty Ltd v Pongrass Associates Pty Ltd [2002] FCA 1203 per French J at [103].In this application, the applicant seeks an order staying the orders of 19 June 2006 which comprise four orders.Since order 1 of the orders of 19 June 2006 is not an operative order effecting a dismissal, I do not propose to stay the operation of the declaration as to the effect of the order of 6 October 2005 from the date of the failure to comply with the condition.Order 3 of the order of 19 June 2006 is a refusal of an extension of time for compliance with the order of 6 October 2005.That matter is the subject of leave to appeal.If the appeal is meritorious, the Court has power to set aside order 3 and extend time to enable an amended application to be filed thus reinstating the application.An application to stay a refusal to extend time is apt to be construed as an order extending time.That matter is before the Full Court.The applicant also seeks a stay in respect of the orders of 6 October 2005.I propose to stay order 1 of that order, pending the determination of the appeal (with leave) from the refusal on 19 June 2006 to extend the time for the filing of an amended application, to the extent that the order of 6 October 2005 provides, prospectively, that the application 'stands dismissed'.The respondent does not oppose the application for a stay which I understand to mean that the respondent submits that in exercising the discretion I ought to be satisfied that there is at least an arguable case to be made, although not a persuasive case, in support of the appeal with leave consistent with Powerflex Services Pty Ltd v Data Access Corp. (1996) 137 ALR 498 and Alexander v Cambridge Credit Corp. Ltd (Receivers Appointed) (1985) 2 NSWLR 685.Prima facie, of course, the judgment appealed from is correct and a successful party is entitled to the benefit of the judgment obtained by him and is entitled to commence with the presumption that the judgment is correct ( Re Middle Harbour Investments Ltd (In Liq) (No.NSWLR 652.However, since the application filed by Wiri #2 has now only reached the stage of a proposed amended application notwithstanding a period of eight years since the filing of the application, the order for a stay ought to be made conditional upon an undertaking by the applicant to 'expeditiously prosecute the appeal the subject of the notice of appeal dated 30 June 2006 and the two matters referred to the Full Court by operation of the orders made by Greenwood J on 26 July 2006' .The Wiri #2 application cannot be allowed to proceed on the same slow footing upon which it has been conducted to date by the applicant.I propose to make an order for a stay as outlined above subject to the applicant providing the undertaking referred to at [27] within such time as the applicant is able to do so but no later than 4.00pm, Wednesday, 23 August 2006.I propose to reserve the costs of the application.\")]"
            ]
          },
          "metadata": {
            "tags": []
          },
          "execution_count": 43
        }
      ]
    },
    {
      "cell_type": "code",
      "metadata": {
        "id": "_bztXJgaR0lR"
      },
      "source": [
        "# The following function gets a list of dictionaryPos values,\n",
        "# and then creates a TF vector\n",
        "# corresponding to those values... for example,\n",
        "# if we get [3, 4, 1, 1, 2] we would in the\n",
        "# end have [0, 2/5, 1/5, 1/5, 1/5] because 0 appears zero times,\n",
        "# 1 appears twice, 2 appears once, etc.\n",
        "\n",
        "def buildArray(listOfIndices):\n",
        "    \n",
        "    returnVal = np.zeros(20000)\n",
        "    \n",
        "    for index in listOfIndices:\n",
        "        returnVal[index] = returnVal[index] + 1\n",
        "    \n",
        "    mysum = np.sum(returnVal)\n",
        "    \n",
        "    returnVal = np.divide(returnVal, mysum)\n",
        "    \n",
        "    return returnVal\n",
        "\n",
        "\n",
        "\n",
        "# Cosine Similarity of two vectors \n",
        "def cousinSim (x, y):\n",
        "\tnormA = np.linalg.norm(x)\n",
        "\tnormB = np.linalg.norm(y)\n",
        "\treturn np.dot(x,y)/(normA*normB)"
      ],
      "execution_count": null,
      "outputs": []
    },
    {
      "cell_type": "code",
      "metadata": {
        "id": "KfyM-3_xR0lU"
      },
      "source": [
        "# Now, we split the text in each (docID, text) pair into a list of words\n",
        "# After this step, we have a data set with\n",
        "# (docID, [\"word1\", \"word2\", \"word3\", ...])\n",
        "# We use a regular expression here to make\n",
        "# sure that the program does not break down on some of the documents\n",
        "\n",
        "# remove all non letter characters\n",
        "\n",
        "keyAndListOfWords = keyAndText.map(lambda x : (str(x[0]), regex.sub(' ', x[1]).lower().split()))\n",
        "\n"
      ],
      "execution_count": null,
      "outputs": []
    },
    {
      "cell_type": "code",
      "metadata": {
        "id": "GMmDCxVhR0lX",
        "colab": {
          "base_uri": "https://localhost:8080/",
          "height": 71
        },
        "outputId": "82f11173-14d1-48fa-953f-949cb0f85054"
      },
      "source": [
        "# Now get the top 20,000 words... first change (docID, [\"word1\", \"word2\", \"word3\", ...])\n",
        "# to (\"word1\", 1) (\"word2\", 1)...\n",
        "allWords = keyAndListOfWords.flatMap(lambda x: x[1]).map(lambda x: (x, 1))\n",
        "\n",
        "# Now, count all of the words, giving us (\"word1\", 1433), (\"word2\", 3423423), etc.\n",
        "allCounts = allWords.reduceByKey(add)\n",
        "\n",
        "# Get the top 20,000 words in a local array in a sorted format based on frequency\n",
        "topWords = allCounts.top(20000, lambda x: x[1])\n",
        "\n",
        "# \n",
        "print(\"Top Words in Corpus:\", allCounts.top(10, key=lambda x: x[1]))\n",
        "\n",
        "# We'll create a RDD that has a set of (word, dictNum) pairs\n",
        "# start by creating an RDD that has the number 0 through 20000\n",
        "# 20000 is the number of words that will be in our dictionary\n",
        "topWordsK = sc.parallelize(range(20000))\n",
        "# another option: \n",
        "\n",
        "# Now, we transform (0), (1), (2), ... to (\"MostCommonWord\", 1)\n",
        "# (\"NextMostCommon\", 2), ...\n",
        "# the number will be the spot in the dictionary used to tell us\n",
        "# where the word is located\n",
        "dictionary = topWordsK.map (lambda x : (topWords[x][0], x))\n",
        "\n",
        "dictionary.cache()\n",
        "print(\"Word Postions in our Feature Matrix. Last 20 words in 20k positions: \", dictionary.top(20, lambda x : x[1]))\n",
        "\n"
      ],
      "execution_count": null,
      "outputs": [
        {
          "output_type": "stream",
          "text": [
            "Top Words in Corpus: [('the', 447995), ('of', 205873), ('and', 177099), ('in', 158991), ('to', 144197), ('a', 125478), ('was', 66687), ('for', 52673), ('on', 50806), ('s', 50308)]\n",
            "Word Postions in our Feature Matrix. Last 20 words in 20k positions:  [('morelos', 19999), ('odisha', 19998), ('chittagong', 19997), ('sirte', 19996), ('fiqh', 19995), ('sajjada', 19994), ('cra', 19993), ('restarted', 19992), ('severus', 19991), ('ngan', 19990), ('magnolia', 19989), ('hornets', 19988), ('symmetric', 19987), ('abolitionist', 19986), ('payoff', 19985), ('lehmann', 19984), ('qasim', 19983), ('dreyer', 19982), ('harkleroad', 19981), ('cain', 19980)]\n"
          ],
          "name": "stdout"
        }
      ]
    },
    {
      "cell_type": "code",
      "metadata": {
        "id": "sRsS1sFIZTm4"
      },
      "source": [
        "#function to look up frequency position. words in an array form\n",
        "def getfp(inRdd, words):\n",
        "    result = []\n",
        "    for w in words:\n",
        "        fp = inRdd.lookup(w)\n",
        "        if not fp:\n",
        "            result.append([-1])\n",
        "        else:\n",
        "            result.append(fp)\n",
        "    return result\n",
        "        "
      ],
      "execution_count": null,
      "outputs": []
    },
    {
      "cell_type": "code",
      "metadata": {
        "id": "r5nTDyGeZTm7",
        "outputId": "590d665b-8faf-4c13-b6de-0ea072e9a801"
      },
      "source": [
        "################### TASK 1 Output  ##################\n",
        "\n",
        "# get the frequency position for the following words\n",
        "getfp(dictionary, ['applicant', 'and', 'attack', 'protein', 'aefwe', 'car', 'for'])"
      ],
      "execution_count": null,
      "outputs": [
        {
          "output_type": "execute_result",
          "data": {
            "text/plain": [
              "[[346], [2], [502], [3014], [-1], [608], [7]]"
            ]
          },
          "metadata": {
            "tags": []
          },
          "execution_count": 48
        }
      ]
    },
    {
      "cell_type": "code",
      "metadata": {
        "id": "jasz-VCqR0lZ"
      },
      "source": [
        "################### TASK 2  ##################\n",
        "\n",
        "# Next, we get a RDD that has, for each (docID, [\"word1\", \"word2\", \"word3\", ...]),\n",
        "# (\"word1\", docID), (\"word2\", docId), ...\n",
        "\n",
        "allWordsWithDocID = keyAndListOfWords.flatMap(lambda x: ((j, x[0]) for j in x[1]))\n",
        "\n",
        "\n",
        "# Now join and link them, to get a set of (\"word1\", (dictionaryPos, docID)) pairs\n",
        "allDictionaryWords = dictionary.join(allWordsWithDocID) #Correct\n",
        "\n",
        "# Now, we drop the actual word itself to get a set of (docID, dictionaryPos) pairs\n",
        "justDocAndPos = allDictionaryWords.map(lambda x: (x[1][1], x[1][0])) #Correct\n",
        "\n",
        "\n",
        "# Now get a set of (docID, [dictionaryPos1, dictionaryPos2, dictionaryPos3...]) pairs\n",
        "allDictionaryWordsInEachDoc = justDocAndPos.groupByKey().map(lambda x: (x[0], list(x[1])))\n",
        "\n",
        "\n",
        "# The following line this gets us a set of\n",
        "# (docID,  [dictionaryPos1, dictionaryPos2, dictionaryPos3...]) pairs\n",
        "# and converts the dictionary positions to a bag-of-words numpy array...\n",
        "allDocsAsNumpyArrays = allDictionaryWordsInEachDoc.map(lambda x: (x[0], buildArray(x[1])))\n",
        "\n",
        "# allDocsAsNumpyArrays contains the 20000 variables of dictionary words by frequency position\n",
        "# and each has a respective TF and this will be used in learning the logistic regression model\n",
        "\n",
        "# convert docID to the Y response variables of 0 and 1. 1 for Id containing AU\n",
        "# create method to quickly conver AU to 1 and everything else to 0\n",
        "def isAU(stringIn):\n",
        "    return int(stringIn[:2]==\"AU\")\n",
        "\n",
        "# map DocID to int 1 or 0 and cache model to be used in logistic regression\n",
        "# cache this RDD to be used\n",
        "textModelRDD = allDocsAsNumpyArrays.map(lambda x: (isAU(x[0]), x[1])).cache()\n",
        "\n"
      ],
      "execution_count": null,
      "outputs": []
    },
    {
      "cell_type": "code",
      "metadata": {
        "id": "sKE6DpVsZTnA",
        "outputId": "2cc182a1-5e14-431b-eddc-1a13fa91893a"
      },
      "source": [
        "allDocsAsNumpyArrays.first()"
      ],
      "execution_count": null,
      "outputs": [
        {
          "output_type": "execute_result",
          "data": {
            "text/plain": [
              "('AU35',\n",
              " array([0.11425061, 0.06511057, 0.02272727, ..., 0.        , 0.        ,\n",
              "        0.        ]))"
            ]
          },
          "metadata": {
            "tags": []
          },
          "execution_count": 50
        }
      ]
    },
    {
      "cell_type": "code",
      "metadata": {
        "id": "zA_h7GqdZTnC"
      },
      "source": [
        "#Define some functions to calculate LLH and perform Gradient descent\n",
        "\n",
        "# calculate the dot product of x an r:\n",
        "def calcTheta(x_np, r_np):\n",
        "    xr_theta = np.dot(x_np, r_np)\n",
        "    return xr_theta\n",
        "\n",
        "# LLH function: Take in Y, X numpy array and r numpy array\n",
        "def calcLLH(y, theta_np):\n",
        "    result = np.sum(np.multiply(y,theta_np) - np.log(1+np.exp(theta_np)))\n",
        "    return result\n",
        "\n",
        "\n",
        "# Define function to calculate gradient:\n",
        "# take in Y, X numpy array and r numpy array\n",
        "def calcGradient(y, x_np, theta_np):\n",
        "    term1 = (-1)*(np.multiply(y,x_np))\n",
        "    term2 = np.multiply(x_np, (np.exp(theta_np)/(1+np.exp(theta_np)))) #predicted\n",
        "    r_gd = term1+term2\n",
        "    return r_gd\n",
        "\n",
        "\n",
        "# calculate Predicted\n",
        "\n",
        "def prediction(x_np, theta_np):\n",
        "    pred_prob = 1/(1+np.exp(-np.dot(x_np, theta_np)))\n",
        "    predicted = int(round(pred_prob))\n",
        "    return predicted"
      ],
      "execution_count": null,
      "outputs": []
    },
    {
      "cell_type": "code",
      "metadata": {
        "id": "VUK8mRaLZTnF"
      },
      "source": [
        "# Set intitial parameters\n",
        "r = np.ones(20000)\n",
        "itr = 0 #initiate at 0\n",
        "learnRate = 0.001 #learning Rate\n",
        "numIter = 400 #maximume Interation\n",
        "#initiate a cost list to keep trackof cost changes\n",
        "costList = []\n",
        "\n",
        "\n",
        "#regularization\n",
        "reg_lambda = 20\n"
      ],
      "execution_count": null,
      "outputs": []
    },
    {
      "cell_type": "code",
      "metadata": {
        "id": "5-jLuP1vZTnH"
      },
      "source": [
        "#calculate the gradient\n",
        "\n",
        "while itr < numIter:\n",
        "    \n",
        "    regRDD1 = textModelRDD.map(lambda x: (x[0], x[1], (calcTheta(x[1], r))))\n",
        "    regRDD2 = regRDD1.map(lambda x: (calcGradient(x[0], x[1], x[2]), calcLLH(x[0], x[2])))\n",
        "    gradientRDD = regRDD2.reduce(lambda a, b: np.add(a, b))\n",
        "    \n",
        "    gradient = 2*gradientRDD[0]*reg_lambda\n",
        "    r = r - (gradient*learnRate)\n",
        "    costList.append(gradientRDD[1]*(-1))\n",
        "    \n",
        "    itr = itr+1\n",
        "    print('cost:{:2.4f} Iter:{}'.format(costList[-1], itr))\n",
        "    \n",
        "    gradient = 2*gradientRDD[0]*reg_lambda\n",
        "    if len(costList)>2 and (costList[-2] - costList[-1] <= 0.01):\n",
        "        itr = 0\n",
        "        break\n",
        "    \n",
        "    \n"
      ],
      "execution_count": null,
      "outputs": []
    },
    {
      "cell_type": "code",
      "metadata": {
        "id": "mozrA1hzR0lc",
        "colab": {
          "base_uri": "https://localhost:8080/",
          "height": 68
        },
        "outputId": "a34c83b2-a8ad-44b6-a080-161e6f070a29"
      },
      "source": [
        "x2 = np.array(range(0, len(costList)))\n",
        "\n",
        "fig2 = plt.figure()\n",
        "fig2.add_axes()\n",
        "\n",
        "plt.plot(x2, costList)\n",
        "plt.show()"
      ],
      "execution_count": null,
      "outputs": [
        {
          "output_type": "display_data",
          "data": {
            "image/png": "[encoded data removed]",
            "text/plain": [
              "<Figure size 432x288 with 1 Axes>"
            ]
          },
          "metadata": {
            "tags": [],
            "needs_background": "light"
          }
        }
      ]
    },
    {
      "cell_type": "code",
      "metadata": {
        "id": "QWoRjfj-ZTnM"
      },
      "source": [
        "# coefficient RDD\n",
        "coefRdd = sc.parallelize(r).zipWithIndex()"
      ],
      "execution_count": null,
      "outputs": []
    },
    {
      "cell_type": "code",
      "metadata": {
        "id": "YMTt2OIKZTnO"
      },
      "source": [
        "# five words with the largest regression coefficients save to list and look up\n",
        "five = coefRdd.top(5, key = lambda x: x[0])\n",
        "pos5 = []\n",
        "for x in five:\n",
        "    pos5.append(x[1])"
      ],
      "execution_count": null,
      "outputs": []
    },
    {
      "cell_type": "code",
      "metadata": {
        "id": "nd26QBz7ZTnQ"
      },
      "source": [
        "# flip the words and position number of the dictionary to look up words by index\n",
        "reverseDict = dictionary.map(lambda x: (x[1], x[0]))"
      ],
      "execution_count": null,
      "outputs": []
    },
    {
      "cell_type": "code",
      "metadata": {
        "id": "LlvgnUAfZTnS"
      },
      "source": [
        "#print out the top 5 words associated with Autralian court docs\n",
        "sc.parallelize(getfp(reverseDict, pos5)).coalesce(1).saveAsTextFile(\"test2\")\n",
        "    "
      ],
      "execution_count": null,
      "outputs": []
    },
    {
      "cell_type": "code",
      "metadata": {
        "id": "Ad0rH_mwR0le"
      },
      "source": [
        "# calculate prediction value on the train set\n",
        "textModelwThetaRDD = textModelRDD.map(lambda x: (x[0], x[1], calcTheta(x[1], r)))\n",
        "\n",
        "textModelwPredictionRDD = textModelwThetaRDD.map(lambda x: (x[0], (0 if x[2] < 0 else 1)))\n",
        "\n",
        "#confusion matrix [labeled, predicted]\n",
        "#TP [1, 1]\n",
        "#FP [0, 1]\n",
        "#FN [1, 0]\n",
        "#TN [0, 0]\n",
        "confMatrixRDD = textModelwPredictionRDD.map(lambda x: ((x[0], x[1]),1)).reduceByKey(lambda a, b: a+b)\n"
      ],
      "execution_count": null,
      "outputs": []
    },
    {
      "cell_type": "code",
      "metadata": {
        "id": "2yHMq1uzR0lg",
        "colab": {
          "base_uri": "https://localhost:8080/",
          "height": 85
        },
        "outputId": "c5c36b25-8fdd-4dea-90f7-dea457b8b614"
      },
      "source": [
        "confMatrixRDD.collect()"
      ],
      "execution_count": null,
      "outputs": [
        {
          "output_type": "execute_result",
          "data": {
            "text/plain": [
              "[((0, 0), 3368), ((1, 0), 74)]"
            ]
          },
          "metadata": {
            "tags": []
          },
          "execution_count": 63
        }
      ]
    },
    {
      "cell_type": "code",
      "metadata": {
        "id": "4iPtsSGUR0li",
        "outputId": "6bc94da7-4e64-47bc-d35f-51653003801f"
      },
      "source": [
        "# Accuracy: (TN + TP) / (TN + TP + FN + FP)\n",
        "accuracy = (3366+0)/(3366+74+2)\n",
        "# Recall: TP/(TP+FN)\n",
        "recall = (0/(0+74))\n",
        "# Precision: TP/(TP+FP)\n",
        "precision = (0/(0+2))\n",
        "\n",
        "# F ratio = 2(precision*Recall)/(precision+recall)\n",
        "#f_ratio = 2*((recall*precision)/(recall+precision))\n",
        "\n",
        "\n",
        "print('accuracy={} recall={} precision={}'.format(accuracy, recall, precision))"
      ],
      "execution_count": null,
      "outputs": [
        {
          "output_type": "stream",
          "text": [
            "accuracy=0.9779198140615921 recall=0.0 precision=0.0\n"
          ],
          "name": "stdout"
        }
      ]
    },
    {
      "cell_type": "code",
      "metadata": {
        "id": "Q6snyKHIR0lm"
      },
      "source": [
        "    "
      ],
      "execution_count": null,
      "outputs": []
    },
    {
      "cell_type": "code",
      "metadata": {
        "id": "VFAVs2x0R0lp"
      },
      "source": [
        "## From Big Data Run:\n",
        "\n",
        "Confusion Matrix:\n",
        "> ((0, 0), 18339) = TN\n",
        "> ((1, 0), 169) = FN\n",
        "> ((1, 1), 208) = TP\n",
        "> ((0, 1), 8) = FP"
      ],
      "execution_count": null,
      "outputs": []
    },
    {
      "cell_type": "code",
      "metadata": {
        "id": "6iegzFXRR0ls"
      },
      "source": [
        "TN = 18339\n",
        "FN = 169\n",
        "TP = 208\n",
        "FP = 8\n",
        "\n",
        "Accuracy = (TN + TP) / (TN + TP + FN + FP)\n",
        "Recall = TP/(TP+FN)\n",
        "Precision = TP/(TP+FP)\n",
        "\n",
        "F_ratio = 2*(Precision*Recall)/(Precision+Recall)"
      ],
      "execution_count": null,
      "outputs": []
    },
    {
      "cell_type": "code",
      "metadata": {
        "id": "2rRB3ilIR0lu",
        "outputId": "01008294-e7bf-4733-ecb9-5af38d76141b"
      },
      "source": [
        "print('Accuracy = ', Accuracy)\n",
        "print('Recall = ', Recall)\n",
        "print('Precision = ', Precision)\n",
        "\n",
        "print('F Ratio = ', F_ratio)"
      ],
      "execution_count": null,
      "outputs": [
        {
          "output_type": "stream",
          "text": [
            "Accuracy =  0.9905468916898099\n",
            "Recall =  0.5517241379310345\n",
            "Precision =  0.9629629629629629\n",
            "F Ratio =  0.7015177065767285\n"
          ],
          "name": "stdout"
        }
      ]
    },
    {
      "cell_type": "code",
      "metadata": {
        "id": "VN0iR5IwByNO"
      },
      "source": [
        ""
      ],
      "execution_count": null,
      "outputs": []
    },
    {
      "cell_type": "code",
      "metadata": {
        "id": "irxm7HQaBzxQ"
      },
      "source": [
        ""
      ],
      "execution_count": null,
      "outputs": []
    }
  ]
}